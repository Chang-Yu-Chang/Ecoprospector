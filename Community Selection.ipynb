{
 "cells": [
  {
   "cell_type": "markdown",
   "metadata": {},
   "source": [
    "# Community Selection "
   ]
  },
  {
   "cell_type": "code",
   "execution_count": 1,
   "metadata": {},
   "outputs": [
    {
     "name": "stdout",
     "output_type": "stream",
     "text": [
      "cvxpy not installed. Community.SteadyState() not available.\n"
     ]
    }
   ],
   "source": [
    "from IPython.display import Image\n",
    "from community_simulator import *\n",
    "from community_simulator.usertools import *\n",
    "from community_simulator.visualization import *\n",
    "import seaborn as sns\n",
    "import matplotlib.pyplot as plt\n",
    "from matplotlib.backends import backend_pdf as bpdf\n",
    "import numpy as np\n",
    "import scipy as sp\n",
    "colors = sns.color_palette()\n",
    "%matplotlib inline"
   ]
  },
  {
   "cell_type": "markdown",
   "metadata": {},
   "source": [
    "This chunk contains a set of functions and objects that you will need to perform community level selection. We are putting them all together so you can load them once and then they will be available in all subsequent chunks.  You will (hopefully) never need to change any of these functions/objects. "
   ]
  },
  {
   "cell_type": "code",
   "execution_count": 2,
   "metadata": {},
   "outputs": [],
   "source": [
    "# Call essential algorithms for community simulation\n",
    "exec(open(\"community_selection/community_simulator-00A-simulation_algorithm.py\").read()) # Single algorithm for simulation `simulate_community()`\n",
    "exec(open(\"community_selection/community_simulator-01-regional_pool.py\").read())\n",
    "exec(open(\"community_selection/community_simulator-02-community_function.py\").read())\n",
    "exec(open(\"community_selection/community_simulator-02A-community_function_student.py\").read()) # Student submitted algorithms\n",
    "exec(open(\"community_selection/community_simulator-03-community_selection.py\").read())\n",
    "exec(open(\"community_selection/community_simulator-03A-community_selection_student.py\").read()) # Student submitted algorithms\n",
    "exec(open(\"community_selection/community_simulator-04-migration.py\").read()) \n",
    "exec(open(\"community_selection/community_simulator-04A-migration_student.py\").read()) # Student submitted algorithms"
   ]
  },
  {
   "cell_type": "markdown",
   "metadata": {},
   "source": [
    "# Ctrl\n",
    "This chunk below performs community assembly without any selection"
   ]
  },
  {
   "cell_type": "code",
   "execution_count": 3,
   "metadata": {
    "scrolled": true
   },
   "outputs": [
    {
     "data": {
      "image/png": "[encoded data removed]",
      "text/plain": [
       "<Figure size 432x288 with 1 Axes>"
      ]
     },
     "metadata": {
      "needs_background": "light"
     },
     "output_type": "display_data"
    }
   ],
   "source": [
    "n = 96\n",
    "np.random.seed(0) #you are all going to get the same species pool\n",
    "assumptions=a_default.copy() #Start with default parameters\n",
    "assumptions.update({'n_wells':n, 'c1' :.01, 'muc':0.1, 'm':0})  # default setting\n",
    "init_state = MakeInitialState(assumptions)\n",
    "params = MakeParams(assumptions)\n",
    "species_pool = RegionalSpeciesPool(assumptions) # Generate a species pool\n",
    "\n",
    "# Make plate\n",
    "np.random.seed(0) # Change to a unique number so that you each start the experiment with a slightly different species pool\n",
    "plate1 = Community(init_state,dynamics,params,scale = 10**6,parallel=True) # Reset the community\n",
    "plate1.N = SampleFromPool(plate1.N,species_pool) # Populate the well by sampling from the species pool\n",
    "\n",
    "#Propagate for 20 passage each lasting '48hr' and record community function every passage\n",
    "function_df = list()\n",
    "for i in range(0,20):\n",
    "    plate1.Propagate(48)\n",
    "    community_function = additive_community_function(plate1)\n",
    "    plate1.Passage(np.eye(n)*1/1000)\n",
    "    function_df.append(community_function)\n",
    "\n",
    "# Plot the community function as a function of time \n",
    "plot_community_function(function_df)"
   ]
  },
  {
   "cell_type": "markdown",
   "metadata": {},
   "source": [
    "# Community Level Selection\n",
    "This chunk below performs community level selection using the pairwize_xz_function."
   ]
  },
  {
   "cell_type": "code",
   "execution_count": 8,
   "metadata": {},
   "outputs": [
    {
     "ename": "NameError",
     "evalue": "name 'selection_plate' is not defined",
     "output_type": "error",
     "traceback": [
      "\u001b[0;31m---------------------------------------------------------------------------\u001b[0m",
      "\u001b[0;31mNameError\u001b[0m                                 Traceback (most recent call last)",
      "\u001b[0;32m<ipython-input-8-0a752d17fc35>\u001b[0m in \u001b[0;36m<module>\u001b[0;34m\u001b[0m\n\u001b[1;32m     15\u001b[0m \u001b[0mfunction_df\u001b[0m \u001b[0;34m=\u001b[0m \u001b[0mlist\u001b[0m\u001b[0;34m(\u001b[0m\u001b[0;34m)\u001b[0m\u001b[0;34m\u001b[0m\u001b[0;34m\u001b[0m\u001b[0m\n\u001b[1;32m     16\u001b[0m \u001b[0;32mfor\u001b[0m \u001b[0mi\u001b[0m \u001b[0;32min\u001b[0m \u001b[0mrange\u001b[0m\u001b[0;34m(\u001b[0m\u001b[0;36m0\u001b[0m\u001b[0;34m,\u001b[0m\u001b[0;36m20\u001b[0m\u001b[0;34m)\u001b[0m\u001b[0;34m:\u001b[0m\u001b[0;34m\u001b[0m\u001b[0;34m\u001b[0m\u001b[0m\n\u001b[0;32m---> 17\u001b[0;31m     \u001b[0mselection_plate\u001b[0m\u001b[0;34m.\u001b[0m\u001b[0mPropagate\u001b[0m\u001b[0;34m(\u001b[0m\u001b[0;36m24\u001b[0m\u001b[0;34m)\u001b[0m\u001b[0;34m\u001b[0m\u001b[0;34m\u001b[0m\u001b[0m\n\u001b[0m\u001b[1;32m     18\u001b[0m     \u001b[0mcommunity_function\u001b[0m \u001b[0;34m=\u001b[0m \u001b[0mresource_distance_community_function\u001b[0m\u001b[0;34m(\u001b[0m\u001b[0mselection_plate\u001b[0m\u001b[0;34m)\u001b[0m\u001b[0;34m\u001b[0m\u001b[0;34m\u001b[0m\u001b[0m\n\u001b[1;32m     19\u001b[0m     \u001b[0mt\u001b[0m \u001b[0;34m=\u001b[0m \u001b[0mpairwise_XZ\u001b[0m\u001b[0;34m(\u001b[0m\u001b[0mcommunity_function\u001b[0m\u001b[0;34m)\u001b[0m\u001b[0;34m*\u001b[0m\u001b[0;36m1\u001b[0m\u001b[0;34m/\u001b[0m\u001b[0;36m1000\u001b[0m\u001b[0;34m\u001b[0m\u001b[0;34m\u001b[0m\u001b[0m\n",
      "\u001b[0;31mNameError\u001b[0m: name 'selection_plate' is not defined"
     ]
    }
   ],
   "source": [
    "n = 96\n",
    "np.random.seed(0) #you are all going to get the same species pool\n",
    "assumptions=a_default.copy() #Start with default parameters\n",
    "assumptions.update({'n_wells':n, 'c1' :.01, 'muc':0.1, 'm':0})  # default setting\n",
    "init_state = MakeInitialState(assumptions)\n",
    "params = MakeParams(assumptions)\n",
    "species_pool = RegionalSpeciesPool(assumptions) # Generate a species pool\n",
    "\n",
    "# Make plate\n",
    "np.random.seed(0) # Change to a unique number so that you each start the experiment with a slightly different species pool\n",
    "plate1 = Community(init_state,dynamics,params,scale = 10**6,parallel=True) # Reset the community\n",
    "plate1.N = SampleFromPool(plate1.N,species_pool) # Populate the well by sampling from the species pool\n",
    "\n",
    "#Propagate for 20 passage each lasting '48hr' and record community function every passage\n",
    "function_df = list()\n",
    "for i in range(0,20):\n",
    "    selection_plate.Propagate(24)\n",
    "    community_function = resource_distance_community_function(selection_plate)\n",
    "    t = pairwise_XZ(community_function)*1/1000\n",
    "    selection_plate.Passage(t)\n",
    "    m = migrate_first_half(community_function) \n",
    "    selection_plate.N = migrate_from_pool(selection_plate, species_pool, m)\n",
    "    function_df.append(community_function)\n",
    "    \n",
    "# Plot the community function as a function of time \n",
    "plot_community_function(function_df)"
   ]
  },
  {
   "cell_type": "code",
   "execution_count": null,
   "metadata": {},
   "outputs": [],
   "source": []
  }
 ],
 "metadata": {
  "kernelspec": {
   "display_name": "Python 3",
   "language": "python",
   "name": "python3"
  },
  "language_info": {
   "codemirror_mode": {
    "name": "ipython",
    "version": 3
   },
   "file_extension": ".py",
   "mimetype": "text/x-python",
   "name": "python",
   "nbconvert_exporter": "python",
   "pygments_lexer": "ipython3",
   "version": "3.7.3"
  }
 },
 "nbformat": 4,
 "nbformat_minor": 2
}
