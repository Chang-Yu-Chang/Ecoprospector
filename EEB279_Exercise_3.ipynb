{
 "cells": [
  {
   "cell_type": "markdown",
   "metadata": {},
   "source": [
    "# EEB729- Breeding Microbial Communities 3\n",
    "\n",
    "Ok so this is a corrected notebook, similar to last week. Unlike in previous weeks you will only need to run this once to get all the data required for analysis.\n",
    "\n",
    "I'll assign each of you a number so that you each consider a different regional species pool. Please make sure to set this in the notebook below (in the custom paramater section). \n",
    "\n",
    "\n",
    "Maddie Bender: 1\n",
    "Richard Li :2\n",
    "Madeleine Mankowski :3"
   ]
  },
  {
   "cell_type": "markdown",
   "metadata": {},
   "source": [
    "# Load Packages"
   ]
  },
  {
   "cell_type": "code",
   "execution_count": 7,
   "metadata": {},
   "outputs": [],
   "source": [
    "from IPython.display import Image\n",
    "from community_simulator import *\n",
    "from community_simulator.usertools import *\n",
    "from community_simulator.visualization import *\n",
    "import seaborn as sns\n",
    "import matplotlib.pyplot as plt\n",
    "from matplotlib.backends import backend_pdf as bpdf\n",
    "import numpy as np\n",
    "import scipy as sp\n",
    "import pandas as pd\n",
    "colors = sns.color_palette()\n",
    "%matplotlib inline"
   ]
  },
  {
   "cell_type": "markdown",
   "metadata": {},
   "source": [
    "# Default Functions\n",
    "\n",
    "This chunk contains a set of functions and objects that you will need to perform community level selection. We are putting them all together so you can load them once and then they will be available in all subsequent chunks.  You will (hopefully) never need to change any of these functions/objects. "
   ]
  },
  {
   "cell_type": "code",
   "execution_count": 8,
   "metadata": {},
   "outputs": [],
   "source": [
    "#Make dynanmics by default we will use the Microbial consumer resource model\n",
    "def dNdt(N,R,params):\n",
    "    return MakeConsumerDynamics(assumptions)(N,R,params)\n",
    "def dRdt(N,R,params):\n",
    "    return MakeResourceDynamics(assumptions)(N,R,params)\n",
    "dynamics = [dNdt,dRdt]\n",
    "\n",
    "# Create a regional species pool\n",
    "def RegionalSpeciesPool(assumptions):\n",
    "    # Parameters\n",
    "    S_tot = int(np.sum(assumptions['SA'])+assumptions['Sgen']) # Total number of species (specialist + generalist)\n",
    "    F = len(assumptions['SA']) # Number of consumer families\n",
    "    consumer_names = ['S'+str(k) for k in range(S_tot)]\n",
    "    family_names = ['F'+str(k) for k in range(F)]\n",
    "    well_names = ['W'+str(k) for k in range(assumptions['n_wells'])]\n",
    "    consumer_index = [[family_names[m] for m in range(F) for k in range(assumptions['SA'][m])]\n",
    "    +['GEN' for k in range(assumptions['Sgen'])],consumer_names]\n",
    "    \n",
    "    # Assign drawn values based on power-law distribution\n",
    "    # Creating an array with M rows an n_wells columns with 0 entries\n",
    "    pool = np.random.power(1, size  = S_tot) \n",
    "    return pool/np.sum(pool)  # Relative species abundance in regional pool\n",
    "\n",
    "# Sample each communities from a different regional species pool\n",
    "def SampleFromPools(plate_N, scale=10**6, inocula=10**6,Pool_Size = 100):\n",
    "    S_tot = int(np.sum(assumptions['SA'])+assumptions['Sgen']) # Total number of species (specialist + generalist)\n",
    "    N0 = np.zeros((plate_N.shape))\n",
    "    consumer_index = plate_N.index\n",
    "    well_names = plate_N.columns\n",
    "    PA_vector = np.concatenate((np.repeat(0,S_tot - Pool_Size),np.repeat(1,Pool_Size)))\n",
    "    np.random.shuffle(PA_vector)\n",
    "    for k in range(plate_N.shape[1]):\n",
    "        pool = np.random.power(1, size  = S_tot) * PA_vector\n",
    "        pool = pool/np.sum(pool)\n",
    "        consumer_list = np.random.choice(len(pool), size=inocula, replace=True, p=pool)\n",
    "        my_tab = pd.crosstab(index=consumer_list, columns=\"count\") # Calculate the cell count\n",
    "        N0[my_tab.index.values,k] = np.ravel(my_tab.values / scale) # Scale to biomass\n",
    "\n",
    "    # Make data.frame\n",
    "    N0 = pd.DataFrame(N0,index=consumer_index,columns=well_names)\n",
    "    return N0\n",
    "\n",
    "# Compute the distances from the target resource \n",
    "def resource_distance_community_function(plate,R_target,sigma = 0.01): #Sigma is the measurement error\n",
    "   R_tot = plate.R.shape[0]\n",
    "   well_tot = plate.R.shape[1]\n",
    "   R_dist = np.sqrt(np.sum(np.array((np.tile(R_target,(well_tot,1)) - plate.R.T)**2)[:,1:],axis=1))\n",
    "   return (np.array(R_dist.T)* -1) * (1+ np.random.normal(0,sigma,well_tot))#(so we select for positive community function)\n",
    "\n",
    "# Migrate from species pool to the plate \n",
    "def migrate_from_pool(plate, migration_factor,Pool_Size = 1000):\n",
    "    # Migration plate\n",
    "    migration_plate = SampleFromPools(plate.N,inocula = migration_factor,Pool_Size = Pool_Size)\n",
    "    \n",
    "    # Migration\n",
    "    plate_migrated = plate.N + migration_plate \n",
    "\n",
    "    return plate_migrated\n",
    "\n",
    "\n",
    "# Plot community function as a function of time    \n",
    "def plot_community_function(function_df):\n",
    "    import matplotlib.pyplot as plt\n",
    "    #function_df\n",
    "    time = range(0, len(function_df))\n",
    "    plt.plot(time,function_df,'ko', markersize=2)\n",
    "    ax = plt.gca()\n",
    "    ax.set_xlabel(\"transfer\")\n",
    "    ax.set_ylabel(\"Community function\")\n",
    "    plt.show()\n",
    "\n"
   ]
  },
  {
   "cell_type": "markdown",
   "metadata": {},
   "source": [
    "# Default Paramaters\n",
    "\n",
    "To start with we will initalize the paramaters for the system. This section contains the default paramaters\n",
    "for the simulations. I do not expect you guys to changes these. "
   ]
  },
  {
   "cell_type": "code",
   "execution_count": 9,
   "metadata": {},
   "outputs": [],
   "source": [
    "###### Default Paramater values taken from the package\n",
    "\n",
    "sampling:'Binary' #{'Gaussian','Binary','Gamma'} specifies choice of sampling algorithm\n",
    "SA: 120*np.ones(3) #Number of species in each familyMA': 30*np.ones(3), \n",
    "#Number of resources of each type\n",
    "Sgen: 60 #Number of generalist species\n",
    "muc: 10 #Mean sum of consumption rates\n",
    "sigc: 3 #Standard deviation of sum of consumption rates for Gaussian and Gamma models\n",
    "q: 0.0 #Preference strength (0 for generalist and 1 for specialist)\n",
    "c0:0.0 #Sum of background consumption rates in binary model\n",
    "c1:1. #Specific consumption rate in binary model\n",
    "l:0.8 #Leakage fraction\n",
    "fs:0.45 #Fraction of secretion flux with same resource type\n",
    "fw:0.45 #Fraction of secretion flux to 'waste' resource\n",
    "sparsity:0.2 #Effective sparsity of metabolic matrix\n",
    "n_wells:10 #Number of independent wells\n",
    "S:100 #Number of species per well\n",
    "food:0 #index of food source\n",
    "R0_food:1000 #unperturbed fixed point for supplied food\n",
    "regulation:'independent' #mhttp://localhost:8888/notebooks/EEB279_Exercise_3.ipynb#etabolic regulation (see dRdt)\n",
    "response:'type I' #functional response (see dRdt)\n",
    "supply:'off' #resource supply (see dRdt)\n",
    "    \n",
    "\n",
    "### Paramaters that we will overwrite ###\n",
    "S=100\n",
    "n_wells = 24\n",
    "m = 0 #mortality\n",
    "c1 = 0.01 #Rescale uptake rate part 1. This is needed to avoid numerical errors that slow down the simulations\n",
    "muc = 0.1 # Rescale uptake part 2\n",
    "scale = 10**9  #scale is a conversion factor specifying the number of individual microbial cells present when N = 1.\n",
    "#Set to 10**6 to avoid numerical errors \n",
    "\n",
    "\n",
    "\n",
    "\n",
    "### Initialize state of the system ###\n",
    "\n",
    "# set up default paramater values\n",
    "assumptions = a_default.copy()\n",
    "assumptions.update({'n_wells' : n_wells,\n",
    "                    'm' : m,\n",
    "                   'c1' :c1,\n",
    "                   'muc' :muc})"
   ]
  },
  {
   "cell_type": "markdown",
   "metadata": {},
   "source": [
    "# Custom paramaters\n",
    "\n",
    "So now lets define the paramaters that we will be manipulating. For this exercise, you should only have to manipulate the pool_id"
   ]
  },
  {
   "cell_type": "code",
   "execution_count": 19,
   "metadata": {},
   "outputs": [],
   "source": [
    "#Paramaters that are specific to the simulations we are running. \n",
    "ng_pre = 20 #Number of transfers\n",
    "ng_post = 20\n",
    "t = 48 #Transfer time (hrs)\n",
    "d_fac  = 1/1000 # Dilution factor(i.e what fraction of the community do we transfer.) at every passage\n",
    "n_inoc =10**4  #Number of cells sampled from the regional species at start\n",
    "# To do replicates just repeat the simulation with a different pool_id\n",
    "pool_id = 100 # The unique ID for each student, changing this ensures that each of you will perform simulations using \n",
    "# a different species pool. \n"
   ]
  },
  {
   "cell_type": "markdown",
   "metadata": {},
   "source": [
    "# Generate Target Resource distribution\n",
    "\n",
    "This bit of code is used to generate a distribution of resources from which the target resource distribution will be sampled. For this we are going to assume a large inoculum size so we can get a rough idea of what diverse communities should generate."
   ]
  },
  {
   "cell_type": "code",
   "execution_count": 20,
   "metadata": {},
   "outputs": [],
   "source": [
    "np.random.seed(0) # Global random seed (i.e all participants)\n",
    "init_state = MakeInitialState(assumptions)\n",
    "params = MakeParams(assumptions)\n",
    "# Make plate\n",
    "target_plate = Community(init_state,dynamics,params,parallel=False) # If using mac set parallel to true this speed up your simulations\n",
    "np.random.seed(0) # Global random seed (i.e all participants)\n",
    "target_plate.N = SampleFromPools(target_plate.N,inocula=n_inoc,Pool_Size = S) # Populate the well by sampling from a different species pool S_size determines the number of species in each sub-poool\n",
    "function_df = list() #list of the functions of each community!\n",
    "for i in range(0, ng_pre):\n",
    "    target_plate.Propagate(t)\n",
    "    TM = np.eye(n_wells)*d_fac  #Generate transfer matrix (in this case we are just transfering like to like so it's the identiy matrix *dilution factor)        \n",
    "    target_plate.Passage(TM)\n",
    "target_plate.Propagate(t)\n",
    "Target_distribution = np.array(target_plate.R.T)[:,1:].flatten()\n",
    "R_tot = target_plate.R.shape[0]\n",
    "well_tot = target_plate.R.shape[1]\n",
    "R_target = np.concatenate([np.zeros(1),np.random.choice(Target_distribution,R_tot-1)])"
   ]
  },
  {
   "cell_type": "markdown",
   "metadata": {},
   "source": [
    "# Before Reproduction\n",
    "\n",
    "Set up plate that has some initial variability in function at equilibrium"
   ]
  },
  {
   "cell_type": "code",
   "execution_count": 21,
   "metadata": {
    "scrolled": true
   },
   "outputs": [
    {
     "data": {
      "image/png": "[encoded data removed]",
      "text/plain": [
       "<Figure size 432x288 with 1 Axes>"
      ]
     },
     "metadata": {
      "needs_background": "light"
     },
     "output_type": "display_data"
    }
   ],
   "source": [
    "# Set up\n",
    "np.random.seed(0) # Global random seed (i.e all participants)\n",
    "init_state = MakeInitialState(assumptions)\n",
    "params = MakeParams(assumptions)\n",
    "# Make plate\n",
    "ctrl_plate = Community(init_state,dynamics,params,parallel=True) # If using mac set parallel to true this speed up your simulations\n",
    "np.random.seed(pool_id) # Global random seed (i.e all participants)\n",
    "ctrl_plate.N = SampleFromPools(ctrl_plate.N,inocula=n_inoc,Pool_Size = S) # Populate the well by sampling from a different species pool S_size determines the number of species in each sub-poool\n",
    "pre = list() #list of the functions of each community!\n",
    "for i in range(0,50):\n",
    "    ctrl_plate.Propagate(t)\n",
    "    community_function = resource_distance_community_function(ctrl_plate, R_target = R_target,sigma=0.001)\n",
    "    pre.append(community_function)\n",
    "    TM = np.eye(n_wells)*d_fac  #Generate transfer matrix (in this case we are just transfering like to like so it's the identiy matrix *dilution factor)        \n",
    "    ctrl_plate.Passage(TM)\n",
    "ctrl_plate.Propagate(t)\n",
    "plot_community_function(pre)\n"
   ]
  },
  {
   "cell_type": "markdown",
   "metadata": {},
   "source": [
    "# Reproduction\n",
    "\n",
    "Ok we are going to passage the communities that you have equilibrated using different bottlenecks and migrating different number of cells. We will repeat this using many different bottlenecks and migration size. This will take a long time to run. "
   ]
  },
  {
   "cell_type": "code",
   "execution_count": null,
   "metadata": {},
   "outputs": [],
   "source": [
    "passage_plate  = ctrl_plate.copy()\n"
   ]
  },
  {
   "cell_type": "code",
   "execution_count": null,
   "metadata": {},
   "outputs": [],
   "source": [
    "\n",
    "b_ext = 1\n",
    "m_ext  = 0\n",
    "rs = 0\n",
    "passage_plate = ctrl_plate.copy()\n",
    "np.random.seed(rs)\n",
    "#passage_plate.N = np.rint(passage_plate.N*scale)/scale \n",
    "#This hack discretises the population before passaging which allows me to calculate the  \n",
    "# precise fraction to transfer. The actual multinomial samplying is handled by the passage function\n",
    "TM = np.eye(n_wells) * b_ext/(np.sum(passage_plate.N.values,axis = 0) * scale) \n",
    "#TM = np.eye(n_wells)*d_fac  #Generate transfer matrix (in this case we are just transfering like to like so it's the identiy matrix *dilution factor)        \n",
    "passage_plate.Passage(TM)\n",
    "passage_plate.N = np.rint(passage_plate.N*scale)/scale # redistcretise passaged cells.\n",
    "#if m_ext >0:\n",
    "#    passage_plate.N = migrate_from_pool(passage_plate, m_ext,Pool_Size = S)\n",
    "#Ok now bring back to equilibrium recording function\n",
    "post = list()\n",
    "for i in range(0,ng_post):\n",
    "    passage_plate.Propagate(t)\n",
    "    community_function = resource_distance_community_function(passage_plate, R_target = R_target,sigma=0.001)\n",
    "    post.append(community_function)\n",
    "    TM = np.eye(n_wells)*d_fac  #Generate transfer matrix (in this case we are just transfering like to like so it's the identiy matrix *dilution factor)        \n",
    "    passage_plate.Passage(TM)\n",
    "plot_community_function(post)"
   ]
  },
  {
   "cell_type": "code",
   "execution_count": null,
   "metadata": {},
   "outputs": [],
   "source": [
    "save_df = pd.DataFrame()\n",
    "for rs in range(0,1):\n",
    "    for m_ext in [0,1,10,100,1000,10000]:\n",
    "        for b_ext in [1,10,100,1000,10000]:\n",
    "            passage_plate = ctrl_plate.copy()\n",
    "            np.random.seed(rs)\n",
    "            passage_plate.N = np.rint(passage_plate.N*scale)/scale \n",
    "            #This hack discretises the population before passaging which allows me to calculate the  \n",
    "            # precise fraction to transfer. The actual multinomial samplying is handled by the passage function\n",
    "            TM = np.eye(n_wells) * b_ext/(np.sum(passage_plate.N.values,axis = 0) * scale) \n",
    "            #Generate a transfer matrix that corresponds to transfering b_ext cells\n",
    "            passage_plate.Passage(TM)\n",
    "            passage_plate.N = np.rint(passage_plate.N*scale)/scale # redistcretise passaged cells.\n",
    "            if m_ext >0:\n",
    "                passage_plate.N = migrate_from_pool(passage_plate, m_ext,Pool_Size = S)\n",
    "            #Ok now bring back to equilibrium recording function\n",
    "            post = list()\n",
    "            for i in range(0,ng_post):\n",
    "                passage_plate.Propagate(t)\n",
    "                community_function = resource_distance_community_function(passage_plate, R_target = R_target,sigma=0.01)\n",
    "                post.append(community_function)\n",
    "                TM = np.eye(n_wells)*d_fac  #Generate transfer matrix (in this case we are just transfering like to like so it's the identiy matrix *dilution factor)        \n",
    "                passage_plate.Passage(TM)\n",
    "            passage_plate.Propagate(t)\n",
    "            full = pd.DataFrame(pre+post)\n",
    "            full['Timepoint'] = full.index\n",
    "            full = pd.melt(full,id_vars=['Timepoint'], var_name = 'Community_ID',value_name = 'Measured_Function')\n",
    "            full['Pool_Random_Seed']  = pool_id\n",
    "            full['Bottleneck_Size']  = b_ext\n",
    "            full['Migration_Size'] = m_ext\n",
    "            full['Replicate']  = rs            \n",
    "            save_df = save_df.append(full)"
   ]
  },
  {
   "cell_type": "code",
   "execution_count": null,
   "metadata": {},
   "outputs": [],
   "source": [
    "save_df.to_csv('Data/Migration_Bottleneck'  + str(pool_id) + '_' + str(n_inoc) + '.csv')"
   ]
  }
 ],
 "metadata": {
  "kernelspec": {
   "display_name": "Python 3",
   "language": "python",
   "name": "python3"
  },
  "language_info": {
   "codemirror_mode": {
    "name": "ipython",
    "version": 3
   },
   "file_extension": ".py",
   "mimetype": "text/x-python",
   "name": "python",
   "nbconvert_exporter": "python",
   "pygments_lexer": "ipython3",
   "version": "3.7.3"
  }
 },
 "nbformat": 4,
 "nbformat_minor": 2
}
