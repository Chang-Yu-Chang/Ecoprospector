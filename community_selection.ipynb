{
 "cells": [
  {
   "cell_type": "markdown",
   "metadata": {},
   "source": [
    "# Community Selection \n",
    "This tutorial provides an minimal example for conducting community-level selection with given selection algorthms."
   ]
  },
  {
   "cell_type": "code",
   "execution_count": 1,
   "metadata": {},
   "outputs": [
    {
     "name": "stdout",
     "output_type": "stream",
     "text": [
      "cvxpy not installed. Community.SteadyState() not available.\n"
     ]
    }
   ],
   "source": [
    "# Community simulator package\n",
    "from IPython.display import Image\n",
    "from community_simulator import *\n",
    "from community_simulator.usertools import *\n",
    "from community_simulator.visualization import *\n",
    "import seaborn as sns\n",
    "import matplotlib.pyplot as plt\n",
    "from matplotlib.backends import backend_pdf as bpdf\n",
    "import numpy as np\n",
    "import scipy as sp\n",
    "colors = sns.color_palette()\n",
    "%matplotlib inline\n",
    "\n",
    "# Community selection package\n",
    "from community_selection import *\n",
    "from community_selection.A_experiment_functions import *\n",
    "from community_selection.B_community_phenotypes import *\n",
    "from community_selection.C_selection_algorithms import *\n",
    "from community_selection.D_migration_algorithms import *"
   ]
  },
  {
   "cell_type": "markdown",
   "metadata": {},
   "source": [
    "# Library of algorithms\n",
    "List of algorithms in computing community phenotypes, selection algorithms, and migration algorithms."
   ]
  },
  {
   "cell_type": "code",
   "execution_count": 2,
   "metadata": {},
   "outputs": [
    {
     "data": {
      "text/html": [
       "<div>\n",
       "<style scoped>\n",
       "    .dataframe tbody tr th:only-of-type {\n",
       "        vertical-align: middle;\n",
       "    }\n",
       "\n",
       "    .dataframe tbody tr th {\n",
       "        vertical-align: top;\n",
       "    }\n",
       "\n",
       "    .dataframe thead th {\n",
       "        text-align: right;\n",
       "    }\n",
       "</style>\n",
       "<table border=\"1\" class=\"dataframe\">\n",
       "  <thead>\n",
       "    <tr style=\"text-align: right;\">\n",
       "      <th></th>\n",
       "      <th>AlgorithmType</th>\n",
       "      <th>AlgorithmName</th>\n",
       "    </tr>\n",
       "  </thead>\n",
       "  <tbody>\n",
       "    <tr>\n",
       "      <th>0</th>\n",
       "      <td>community_phenotype</td>\n",
       "      <td>f1_community_function_additive</td>\n",
       "    </tr>\n",
       "    <tr>\n",
       "      <th>1</th>\n",
       "      <td>community_phenotype</td>\n",
       "      <td>f2_community_function_interaction</td>\n",
       "    </tr>\n",
       "    <tr>\n",
       "      <th>2</th>\n",
       "      <td>community_phenotype</td>\n",
       "      <td>f3_community_function_additive_binary</td>\n",
       "    </tr>\n",
       "    <tr>\n",
       "      <th>3</th>\n",
       "      <td>community_phenotype</td>\n",
       "      <td>f4_community_function_interaction_binary</td>\n",
       "    </tr>\n",
       "    <tr>\n",
       "      <th>4</th>\n",
       "      <td>community_phenotype</td>\n",
       "      <td>f5_invasion_growth</td>\n",
       "    </tr>\n",
       "    <tr>\n",
       "      <th>5</th>\n",
       "      <td>community_phenotype</td>\n",
       "      <td>f6_resident_growth</td>\n",
       "    </tr>\n",
       "    <tr>\n",
       "      <th>0</th>\n",
       "      <td>selection_algorithm</td>\n",
       "      <td>select_best_n</td>\n",
       "    </tr>\n",
       "    <tr>\n",
       "      <th>1</th>\n",
       "      <td>selection_algorithm</td>\n",
       "      <td>no_selection</td>\n",
       "    </tr>\n",
       "    <tr>\n",
       "      <th>2</th>\n",
       "      <td>selection_algorithm</td>\n",
       "      <td>mixing_matrix</td>\n",
       "    </tr>\n",
       "    <tr>\n",
       "      <th>3</th>\n",
       "      <td>selection_algorithm</td>\n",
       "      <td>pairwise_XZ</td>\n",
       "    </tr>\n",
       "    <tr>\n",
       "      <th>4</th>\n",
       "      <td>selection_algorithm</td>\n",
       "      <td>mate_top_XZ</td>\n",
       "    </tr>\n",
       "    <tr>\n",
       "      <th>0</th>\n",
       "      <td>migration_algorithm</td>\n",
       "      <td>no_migration</td>\n",
       "    </tr>\n",
       "    <tr>\n",
       "      <th>1</th>\n",
       "      <td>migration_algorithm</td>\n",
       "      <td>migration_factor_from_function</td>\n",
       "    </tr>\n",
       "  </tbody>\n",
       "</table>\n",
       "</div>"
      ],
      "text/plain": [
       "         AlgorithmType                             AlgorithmName\n",
       "0  community_phenotype            f1_community_function_additive\n",
       "1  community_phenotype         f2_community_function_interaction\n",
       "2  community_phenotype     f3_community_function_additive_binary\n",
       "3  community_phenotype  f4_community_function_interaction_binary\n",
       "4  community_phenotype                        f5_invasion_growth\n",
       "5  community_phenotype                        f6_resident_growth\n",
       "0  selection_algorithm                             select_best_n\n",
       "1  selection_algorithm                              no_selection\n",
       "2  selection_algorithm                             mixing_matrix\n",
       "3  selection_algorithm                               pairwise_XZ\n",
       "4  selection_algorithm                               mate_top_XZ\n",
       "0  migration_algorithm                              no_migration\n",
       "1  migration_algorithm            migration_factor_from_function"
      ]
     },
     "execution_count": 2,
     "metadata": {},
     "output_type": "execute_result"
    }
   ],
   "source": [
    "make_algorithm_library()"
   ]
  },
  {
   "cell_type": "markdown",
   "metadata": {},
   "source": [
    "# Examples\n",
    "1. Set up parameters \n",
    "2. Make inital state and put together consumer and resource initial states into a plate\n",
    "3. Simulate the community\n",
    "\n",
    "Set up the simulation parameters "
   ]
  },
  {
   "cell_type": "code",
   "execution_count": 3,
   "metadata": {},
   "outputs": [],
   "source": [
    "# Make dynanmics by default we will use the microbial consumer resource model\n",
    "def dNdt(N,R,params):\n",
    "    return MakeConsumerDynamics(assumptions)(N,R,params)\n",
    "def dRdt(N,R,params):\n",
    "    return MakeResourceDynamics(assumptions)(N,R,params)\n",
    "dynamics = [dNdt,dRdt]\n",
    "\n",
    "# Assumptions\n",
    "assumptions = a_default.copy() # Start with default parameters\n",
    "assumptions.update({'n_wells':24, 'c1' :0.1, 'muc':1, 'm':0, \"response\":\"type III\",\n",
    "                    'q': 0.5,\n",
    "                   'SA': np.concatenate([[10], 60*np.ones(3)]), 'MA': np.concatenate([[10], 30*np.ones(3)])}) # Concatenate to creat a super family\n",
    "assumptions[\"sigma\"] = 1 # Standard deviation for drawing specifc speices/interaction function\n",
    "assumptions[\"alpha\"] = 1 # Scaling factor between species- and interaction-specific function variances\n",
    "\n",
    "# Prepare experiment setup \n",
    "params, species_pool, species_function, interaction_function = prepare_experiment(assumptions)\n",
    "\n",
    "## Simulation parameters\n",
    "params_simulation = {\n",
    "    \"n_propagation\": 24, # Length of propagation, or hours within a growth cycle\n",
    "    \"n_transfer\": 3, # Number of transfer, or number of passage\n",
    "    \"dilution\": 1/1000, # Dilution factor for transfer\n",
    "    \"pool\": species_pool\n",
    "}"
   ]
  },
  {
   "cell_type": "code",
   "execution_count": 4,
   "metadata": {},
   "outputs": [
    {
     "ename": "NameError",
     "evalue": "name 'plate' is not defined",
     "output_type": "error",
     "traceback": [
      "\u001b[0;31m---------------------------------------------------------------------------\u001b[0m",
      "\u001b[0;31mNameError\u001b[0m                                 Traceback (most recent call last)",
      "\u001b[0;32m<ipython-input-4-1c593e8f147b>\u001b[0m in \u001b[0;36m<module>\u001b[0;34m\u001b[0m\n\u001b[1;32m     33\u001b[0m     \u001b[0;32mreturn\u001b[0m \u001b[0mplate_invasion\u001b[0m\u001b[0;34m.\u001b[0m\u001b[0mN\u001b[0m\u001b[0;34m\u001b[0m\u001b[0;34m\u001b[0m\u001b[0m\n\u001b[1;32m     34\u001b[0m \u001b[0;34m\u001b[0m\u001b[0m\n\u001b[0;32m---> 35\u001b[0;31m \u001b[0mf6_resident_growth\u001b[0m\u001b[0;34m(\u001b[0m\u001b[0mplate\u001b[0m\u001b[0;34m)\u001b[0m\u001b[0;34m\u001b[0m\u001b[0;34m\u001b[0m\u001b[0m\n\u001b[0m",
      "\u001b[0;31mNameError\u001b[0m: name 'plate' is not defined"
     ]
    }
   ],
   "source": [
    "def f6_resident_growth(plate):\n",
    "    \"\"\"\n",
    "    Quantifying how resistant the community is to an external species invasion\n",
    "    \n",
    "    \"\"\"\n",
    "    import random \n",
    "    # Number of and species and community\n",
    "    S_tot = plate.N.shape[0]\n",
    "    n_wells = plate.N.shape[1]\n",
    "    plate_test = plate.N.copy()\n",
    "    \n",
    "    # Make a plate with monoculuture community \n",
    "    # Set seed\n",
    "    \"How to draw a community from the speceis pool\"\n",
    "    random.seed(0)\n",
    "    plate_invasion = plate.copy()\n",
    "    plate_invasion.N = sample_from_pool(plate_test, params_simulation[\"pool\"], scale = 10**6, inocula = 10**6)\n",
    "    plate_invasion.Propagate(24)\n",
    "    \n",
    "    # Coalesce the community \n",
    "    # plate_test = plate.copy()\n",
    "    # plate_test.N = plate_test.N + plate_invasion.N\n",
    "    # \n",
    "    # # Dilute the community \n",
    "    # plate_test.Passage(np.eye(n_wells) * 1/1000)\n",
    "    # \n",
    "    # # Grow the coalesced communities\n",
    "    # plate_test.Propagate(24)\n",
    "    # \n",
    "    # # Calculate the function by dividing the final x(t) with x(o) \n",
    "    # function_resistance = plate_test.N.iloc[0] / plate_invasion.N.iloc[0]\n",
    "    # \n",
    "    return plate_invasion.N\n"
   ]
  },
  {
   "cell_type": "markdown",
   "metadata": {},
   "source": [
    "# Control"
   ]
  },
  {
   "cell_type": "code",
   "execution_count": null,
   "metadata": {},
   "outputs": [],
   "source": [
    "# Make initial state\n",
    "init_state = MakeInitialState(assumptions)\n",
    "\n",
    "# Make plate\n",
    "plate = Community(init_state, dynamics, params, scale = 10**6, parallel = True) \n",
    "setattr(plate, \"species_function\", species_function)\n",
    "setattr(plate, \"interaction_function\", interaction_function)\n",
    "\n",
    "# Choose the selection algorithms to run\n",
    "params_algorithm = {\"community_phenotype\": \"f6_resident_growth\", \"selection_algorithm\": \"no_selection\", \"migration_algorithm\": \"no_migration\"}\n",
    "\n",
    "# Simulation\n",
    "ctrl_plate_df, ctrl_function_df = simulate_community(plate, params_simulation, params_algorithm, write_composition = False)"
   ]
  },
  {
   "cell_type": "code",
   "execution_count": null,
   "metadata": {},
   "outputs": [],
   "source": [
    "plot_community_function(ctrl_function_df)"
   ]
  },
  {
   "cell_type": "markdown",
   "metadata": {},
   "source": [
    "## Selection\n",
    "Select top 25% for example"
   ]
  },
  {
   "cell_type": "code",
   "execution_count": null,
   "metadata": {},
   "outputs": [],
   "source": [
    "# Make initial state\n",
    "init_state = MakeInitialState(assumptions)\n",
    "# Make plate\n",
    "plate = Community(init_state, dynamics, params, scale = 10**6, parallel = True) \n",
    "# Choose the selection algorithms to run\n",
    "params_algorithm = {\"community_phenotype\": \"f5_invasion_growth\", \"selection_algorithm\": \"select_best_n\", \"migration_algorithm\": \"no_migration\"}\n",
    "# Simulation\n",
    "selection_plate_df, selection_function_df = simulate_community(plate, params_simulation, params_algorithm, write_composition = False)"
   ]
  },
  {
   "cell_type": "code",
   "execution_count": null,
   "metadata": {
    "scrolled": true
   },
   "outputs": [],
   "source": [
    "plot_community_function(selection_function_df)"
   ]
  },
  {
   "cell_type": "markdown",
   "metadata": {},
   "source": [
    "# Make the monoculutre plate "
   ]
  },
  {
   "cell_type": "code",
   "execution_count": null,
   "metadata": {},
   "outputs": [],
   "source": [
    "# Make initial state\n",
    "N0 = make_synthetic_mono(assumptions)[[\"W\" + str(i) for i  in range(30)]]\n",
    "init_state = make_initial_state(assumptions, N0)\n",
    "\n",
    "# Make plate\n",
    "plate = Community(init_state, dynamics, params, scale = 10**6, parallel = True)\n",
    "setattr(plate, \"species_function\", species_function)\n",
    "setattr(plate, \"interaction_function\", interaction_function)\n",
    "\n",
    "# Choose the selection algorithms to run\n",
    "params_algorithm = {\"community_phenotype\": \"f1_community_function_additive\", \"selection_algorithm\": \"no_selection\", \"migration_algorithm\": \"no_migration\"}\n",
    "\n",
    "# Simulation\n",
    "mono_plate, mono_function_df = simulate_community(plate, params_simulation, params_algorithm, write_composition = False)\n",
    "mono_plate[(mono_plate['Transfer'] == str(2)) & (mono_plate['Type'] == 'consumer')]"
   ]
  }
 ],
 "metadata": {
  "kernelspec": {
   "display_name": "Python 3",
   "language": "python",
   "name": "python3"
  },
  "language_info": {
   "codemirror_mode": {
    "name": "ipython",
    "version": 3
   },
   "file_extension": ".py",
   "mimetype": "text/x-python",
   "name": "python",
   "nbconvert_exporter": "python",
   "pygments_lexer": "ipython3",
   "version": "3.7.3"
  }
 },
 "nbformat": 4,
 "nbformat_minor": 2
}
