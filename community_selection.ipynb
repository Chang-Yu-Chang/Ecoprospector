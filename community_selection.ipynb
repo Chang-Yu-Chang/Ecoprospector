{
 "cells": [
  {
   "cell_type": "markdown",
   "metadata": {},
   "source": [
    "# Community Selection \n",
    "This tutorial provides an minimal example for conducting community-level selection with given selection algorthms."
   ]
  },
  {
   "cell_type": "code",
   "execution_count": 1,
   "metadata": {},
   "outputs": [
    {
     "name": "stdout",
     "output_type": "stream",
     "text": [
      "cvxpy not installed. Community.SteadyState() not available.\n"
     ]
    }
   ],
   "source": [
    "# Community simulator package\n",
    "from IPython.display import Image\n",
    "from community_simulator import *\n",
    "from community_simulator.usertools import *\n",
    "from community_simulator.visualization import *\n",
    "import seaborn as sns\n",
    "import matplotlib.pyplot as plt\n",
    "from matplotlib.backends import backend_pdf as bpdf\n",
    "import numpy as np\n",
    "import scipy as sp\n",
    "colors = sns.color_palette()\n",
    "%matplotlib inline\n",
    "\n",
    "# Community selection package\n",
    "from community_selection import *\n",
    "from community_selection.A_experiment_functions import *\n",
    "from community_selection.B_community_phenotypes import *\n",
    "from community_selection.C_selection_algorithms import *\n",
    "from community_selection.D_migration_algorithms import *"
   ]
  },
  {
   "cell_type": "markdown",
   "metadata": {},
   "source": [
    "# Library of algorithms\n",
    "List of algorithms"
   ]
  },
  {
   "cell_type": "code",
   "execution_count": 2,
   "metadata": {},
   "outputs": [
    {
     "data": {
      "text/html": [
       "<div>\n",
       "<style scoped>\n",
       "    .dataframe tbody tr th:only-of-type {\n",
       "        vertical-align: middle;\n",
       "    }\n",
       "\n",
       "    .dataframe tbody tr th {\n",
       "        vertical-align: top;\n",
       "    }\n",
       "\n",
       "    .dataframe thead th {\n",
       "        text-align: right;\n",
       "    }\n",
       "</style>\n",
       "<table border=\"1\" class=\"dataframe\">\n",
       "  <thead>\n",
       "    <tr style=\"text-align: right;\">\n",
       "      <th></th>\n",
       "      <th>AlgorithmType</th>\n",
       "      <th>AlgorithmName</th>\n",
       "    </tr>\n",
       "  </thead>\n",
       "  <tbody>\n",
       "    <tr>\n",
       "      <th>0</th>\n",
       "      <td>community_phenotype</td>\n",
       "      <td>resource_distance_community_function</td>\n",
       "    </tr>\n",
       "    <tr>\n",
       "      <th>1</th>\n",
       "      <td>community_phenotype</td>\n",
       "      <td>community_function_additive</td>\n",
       "    </tr>\n",
       "    <tr>\n",
       "      <th>2</th>\n",
       "      <td>community_phenotype</td>\n",
       "      <td>community_function_additive_saturation</td>\n",
       "    </tr>\n",
       "    <tr>\n",
       "      <th>3</th>\n",
       "      <td>community_phenotype</td>\n",
       "      <td>community_function_complex</td>\n",
       "    </tr>\n",
       "    <tr>\n",
       "      <th>4</th>\n",
       "      <td>community_phenotype</td>\n",
       "      <td>community_function_complex_saturation</td>\n",
       "    </tr>\n",
       "    <tr>\n",
       "      <th>5</th>\n",
       "      <td>community_phenotype</td>\n",
       "      <td>resource_additive</td>\n",
       "    </tr>\n",
       "    <tr>\n",
       "      <th>6</th>\n",
       "      <td>community_phenotype</td>\n",
       "      <td>resource_additive_saturation</td>\n",
       "    </tr>\n",
       "    <tr>\n",
       "      <th>7</th>\n",
       "      <td>community_phenotype</td>\n",
       "      <td>resource_additive</td>\n",
       "    </tr>\n",
       "    <tr>\n",
       "      <th>8</th>\n",
       "      <td>community_phenotype</td>\n",
       "      <td>resource_complex_saturation</td>\n",
       "    </tr>\n",
       "    <tr>\n",
       "      <th>0</th>\n",
       "      <td>selection_algorithm</td>\n",
       "      <td>select_best_n</td>\n",
       "    </tr>\n",
       "    <tr>\n",
       "      <th>1</th>\n",
       "      <td>selection_algorithm</td>\n",
       "      <td>no_selection</td>\n",
       "    </tr>\n",
       "    <tr>\n",
       "      <th>2</th>\n",
       "      <td>selection_algorithm</td>\n",
       "      <td>mixing_matrix</td>\n",
       "    </tr>\n",
       "    <tr>\n",
       "      <th>3</th>\n",
       "      <td>selection_algorithm</td>\n",
       "      <td>pairwise_XZ</td>\n",
       "    </tr>\n",
       "    <tr>\n",
       "      <th>4</th>\n",
       "      <td>selection_algorithm</td>\n",
       "      <td>mate_top_XZ</td>\n",
       "    </tr>\n",
       "    <tr>\n",
       "      <th>5</th>\n",
       "      <td>selection_algorithm</td>\n",
       "      <td>select_above_avg_save_losers</td>\n",
       "    </tr>\n",
       "    <tr>\n",
       "      <th>6</th>\n",
       "      <td>selection_algorithm</td>\n",
       "      <td>MixFirstLast</td>\n",
       "    </tr>\n",
       "    <tr>\n",
       "      <th>7</th>\n",
       "      <td>selection_algorithm</td>\n",
       "      <td>ChooseBest_MixFirstLast</td>\n",
       "    </tr>\n",
       "    <tr>\n",
       "      <th>8</th>\n",
       "      <td>selection_algorithm</td>\n",
       "      <td>ChooseRandom_NoMix</td>\n",
       "    </tr>\n",
       "    <tr>\n",
       "      <th>9</th>\n",
       "      <td>selection_algorithm</td>\n",
       "      <td>ChooseRandom_Mix</td>\n",
       "    </tr>\n",
       "    <tr>\n",
       "      <th>10</th>\n",
       "      <td>selection_algorithm</td>\n",
       "      <td>ChooseBest_Shuffle_Mix</td>\n",
       "    </tr>\n",
       "    <tr>\n",
       "      <th>11</th>\n",
       "      <td>selection_algorithm</td>\n",
       "      <td>select_mix</td>\n",
       "    </tr>\n",
       "    <tr>\n",
       "      <th>12</th>\n",
       "      <td>selection_algorithm</td>\n",
       "      <td>exponealing</td>\n",
       "    </tr>\n",
       "    <tr>\n",
       "      <th>13</th>\n",
       "      <td>selection_algorithm</td>\n",
       "      <td>exponealing2</td>\n",
       "    </tr>\n",
       "    <tr>\n",
       "      <th>14</th>\n",
       "      <td>selection_algorithm</td>\n",
       "      <td>drunkards_walk</td>\n",
       "    </tr>\n",
       "    <tr>\n",
       "      <th>15</th>\n",
       "      <td>selection_algorithm</td>\n",
       "      <td>select_one_more</td>\n",
       "    </tr>\n",
       "    <tr>\n",
       "      <th>16</th>\n",
       "      <td>selection_algorithm</td>\n",
       "      <td>select_one_less</td>\n",
       "    </tr>\n",
       "    <tr>\n",
       "      <th>17</th>\n",
       "      <td>selection_algorithm</td>\n",
       "      <td>select_best_random</td>\n",
       "    </tr>\n",
       "    <tr>\n",
       "      <th>18</th>\n",
       "      <td>selection_algorithm</td>\n",
       "      <td>select_best</td>\n",
       "    </tr>\n",
       "    <tr>\n",
       "      <th>19</th>\n",
       "      <td>selection_algorithm</td>\n",
       "      <td>select_worst</td>\n",
       "    </tr>\n",
       "    <tr>\n",
       "      <th>20</th>\n",
       "      <td>selection_algorithm</td>\n",
       "      <td>select_one_more_worst</td>\n",
       "    </tr>\n",
       "    <tr>\n",
       "      <th>0</th>\n",
       "      <td>migration_algorithm</td>\n",
       "      <td>no_migration</td>\n",
       "    </tr>\n",
       "    <tr>\n",
       "      <th>1</th>\n",
       "      <td>migration_algorithm</td>\n",
       "      <td>migration_factor_from_function</td>\n",
       "    </tr>\n",
       "    <tr>\n",
       "      <th>2</th>\n",
       "      <td>migration_algorithm</td>\n",
       "      <td>migration_factor_for_pairwise_XZ</td>\n",
       "    </tr>\n",
       "    <tr>\n",
       "      <th>3</th>\n",
       "      <td>migration_algorithm</td>\n",
       "      <td>migrate_by_fraction</td>\n",
       "    </tr>\n",
       "    <tr>\n",
       "      <th>4</th>\n",
       "      <td>migration_algorithm</td>\n",
       "      <td>migration_factor_rand_sneak_in</td>\n",
       "    </tr>\n",
       "    <tr>\n",
       "      <th>5</th>\n",
       "      <td>migration_algorithm</td>\n",
       "      <td>migration_into_winner</td>\n",
       "    </tr>\n",
       "    <tr>\n",
       "      <th>6</th>\n",
       "      <td>migration_algorithm</td>\n",
       "      <td>migrate_first_half</td>\n",
       "    </tr>\n",
       "  </tbody>\n",
       "</table>\n",
       "</div>"
      ],
      "text/plain": [
       "          AlgorithmType                           AlgorithmName\n",
       "0   community_phenotype    resource_distance_community_function\n",
       "1   community_phenotype             community_function_additive\n",
       "2   community_phenotype  community_function_additive_saturation\n",
       "3   community_phenotype              community_function_complex\n",
       "4   community_phenotype   community_function_complex_saturation\n",
       "5   community_phenotype                       resource_additive\n",
       "6   community_phenotype            resource_additive_saturation\n",
       "7   community_phenotype                       resource_additive\n",
       "8   community_phenotype             resource_complex_saturation\n",
       "0   selection_algorithm                           select_best_n\n",
       "1   selection_algorithm                            no_selection\n",
       "2   selection_algorithm                           mixing_matrix\n",
       "3   selection_algorithm                             pairwise_XZ\n",
       "4   selection_algorithm                             mate_top_XZ\n",
       "5   selection_algorithm            select_above_avg_save_losers\n",
       "6   selection_algorithm                            MixFirstLast\n",
       "7   selection_algorithm                 ChooseBest_MixFirstLast\n",
       "8   selection_algorithm                      ChooseRandom_NoMix\n",
       "9   selection_algorithm                        ChooseRandom_Mix\n",
       "10  selection_algorithm                  ChooseBest_Shuffle_Mix\n",
       "11  selection_algorithm                              select_mix\n",
       "12  selection_algorithm                             exponealing\n",
       "13  selection_algorithm                            exponealing2\n",
       "14  selection_algorithm                          drunkards_walk\n",
       "15  selection_algorithm                         select_one_more\n",
       "16  selection_algorithm                         select_one_less\n",
       "17  selection_algorithm                      select_best_random\n",
       "18  selection_algorithm                             select_best\n",
       "19  selection_algorithm                            select_worst\n",
       "20  selection_algorithm                   select_one_more_worst\n",
       "0   migration_algorithm                            no_migration\n",
       "1   migration_algorithm          migration_factor_from_function\n",
       "2   migration_algorithm        migration_factor_for_pairwise_XZ\n",
       "3   migration_algorithm                     migrate_by_fraction\n",
       "4   migration_algorithm          migration_factor_rand_sneak_in\n",
       "5   migration_algorithm                   migration_into_winner\n",
       "6   migration_algorithm                      migrate_first_half"
      ]
     },
     "execution_count": 2,
     "metadata": {},
     "output_type": "execute_result"
    }
   ],
   "source": [
    "make_algorithm_library()"
   ]
  },
  {
   "cell_type": "markdown",
   "metadata": {},
   "source": [
    "# Examples\n",
    "1. Set up parameters \n",
    "2. Make inital state and put together consumer and resource initial states into a plate\n",
    "3. Simulate the community\n",
    "\n",
    "Set up the simulation parameters "
   ]
  },
  {
   "cell_type": "code",
   "execution_count": 3,
   "metadata": {},
   "outputs": [],
   "source": [
    "# Make dynanmics by default we will use the microbial consumer resource model\n",
    "def dNdt(N,R,params):\n",
    "    return MakeConsumerDynamics(assumptions)(N,R,params)\n",
    "def dRdt(N,R,params):\n",
    "    return MakeResourceDynamics(assumptions)(N,R,params)\n",
    "dynamics = [dNdt,dRdt]\n",
    "\n",
    "# Assumptions\n",
    "assumptions = a_default.copy() # Start with default parameters\n",
    "assumptions.update({'n_wells':96, 'c1' :0.01, 'muc':0.1, 'm':0}) # Switch off mortality\n",
    "\n",
    "# Prepare experiment; \n",
    "params, species_pool = prepare_experiment(assumptions)\n",
    "\n",
    "## Simulation parameters\n",
    "params_simulation = {\n",
    "    \"n_propagation\": 24, # Length of propagation, or hours within a growth cycle\n",
    "    \"n_transfer\": 5, # Number of transfer, or number of passage\n",
    "    \"dilution\": 1/1000, # Dilution factor for transfer\n",
    "    \"pool\": species_pool\n",
    "}"
   ]
  },
  {
   "cell_type": "markdown",
   "metadata": {},
   "source": [
    "## Pairwise competition\n",
    "\n",
    "Pairwise combinations of the provided species list, competing in different initial frequencies"
   ]
  },
  {
   "cell_type": "code",
   "execution_count": 12,
   "metadata": {},
   "outputs": [
    {
     "name": "stdout",
     "output_type": "stream",
     "text": [
      "Transfer 1 done.\n",
      "Transfer 2 done.\n",
      "Transfer 3 done.\n",
      "Transfer 4 done.\n",
      "Transfer 5 done.\n",
      "Transfer 6 done.\n",
      "Transfer 7 done.\n",
      "Transfer 8 done.\n",
      "Transfer 9 done.\n",
      "Transfer 10 done.\n"
     ]
    }
   ],
   "source": [
    "# Make initial state\n",
    "#N0 = make_synthetic_community(species_list = [13, 16, 17, 33, 49, 51, 68, 74, 85, 94, 152, 155, 171, 188, 191], assumptions = assumptions, number_species = 2, initial_frequency = [[0.5, 0.5], [0.95, 0.05], [0.05, 0.95]])\n",
    "N0 = make_synthetic_community(species_list = [13, 16, 17], assumptions = assumptions, number_species = 2, initial_frequency = [[0.5, 0.5], [0.95, 0.05], [0.05, 0.95]])\n",
    "init_state = make_initial_state(assumptions, N0)\n",
    "\n",
    "# Make plate\n",
    "plate = Community(init_state, dynamics, params, scale = 10**6, parallel = True)\n",
    "\n",
    "# Simulation\n",
    "params_algorithm = {\"community_phenotype\": \"community_function_additive\", \"selection_algorithm\": \"no_selection\", \"migration_algorithm\": \"no_migration\"}\n",
    "pair_plate_df, pair_function_df = simulate_community(plate = plate, params_simulation = params_simulation, params_algorithm = params_algorithm, file_name = \"data/self_assembly-pair-W0.txt\", write_composition = True)"
   ]
  },
  {
   "cell_type": "code",
   "execution_count": 17,
   "metadata": {},
   "outputs": [
    {
     "data": {
      "image/png": "[encoded data removed]",
      "text/plain": [
       "<Figure size 432x288 with 1 Axes>"
      ]
     },
     "metadata": {
      "needs_background": "light"
     },
     "output_type": "display_data"
    }
   ],
   "source": [
    "plot_community_function(pair_function_df)"
   ]
  },
  {
   "cell_type": "markdown",
   "metadata": {},
   "source": [
    "# Control"
   ]
  },
  {
   "cell_type": "code",
   "execution_count": 9,
   "metadata": {},
   "outputs": [
    {
     "name": "stdout",
     "output_type": "stream",
     "text": [
      "Transfer 1 done.\n",
      "Transfer 2 done.\n",
      "Transfer 3 done.\n",
      "Transfer 4 done.\n",
      "Transfer 5 done.\n",
      "Transfer 6 done.\n",
      "Transfer 7 done.\n",
      "Transfer 8 done.\n",
      "Transfer 9 done.\n",
      "Transfer 10 done.\n"
     ]
    }
   ],
   "source": [
    "# Make initial state\n",
    "init_state = MakeInitialState(assumptions)\n",
    "# Make plate\n",
    "plate = Community(init_state, dynamics, params, scale = 10**6, parallel = True) \n",
    "# Choose the selection algorithms to run\n",
    "params_algorithm = {\"community_phenotype\": \"community_function_additive\", \"selection_algorithm\": \"no_selection\", \"migration_algorithm\": \"no_migration\"}\n",
    "# Simulation\n",
    "ctrl_plate_df, ctrl_function_df = simulate_community(plate, params_simulation, params_algorithm, write_composition = False)"
   ]
  },
  {
   "cell_type": "code",
   "execution_count": 10,
   "metadata": {},
   "outputs": [
    {
     "data": {
      "image/png": "[encoded data removed]",
      "text/plain": [
       "<Figure size 432x288 with 1 Axes>"
      ]
     },
     "metadata": {
      "needs_background": "light"
     },
     "output_type": "display_data"
    }
   ],
   "source": [
    "plot_community_function(ctrl_function_df)"
   ]
  },
  {
   "cell_type": "markdown",
   "metadata": {},
   "source": [
    "## Selection\n",
    "Select top 25% for example"
   ]
  },
  {
   "cell_type": "code",
   "execution_count": 18,
   "metadata": {},
   "outputs": [
    {
     "name": "stdout",
     "output_type": "stream",
     "text": [
      "Transfer 1 done.\n",
      "Transfer 2 done.\n",
      "Transfer 3 done.\n",
      "Transfer 4 done.\n",
      "Transfer 5 done.\n",
      "Transfer 6 done.\n",
      "Transfer 7 done.\n",
      "Transfer 8 done.\n",
      "Transfer 9 done.\n",
      "Transfer 10 done.\n"
     ]
    }
   ],
   "source": [
    "# Make initial state\n",
    "init_state = MakeInitialState(assumptions)\n",
    "# Make plate\n",
    "plate = Community(init_state, dynamics, params, scale = 10**6, parallel = True) \n",
    "# Choose the selection algorithms to run\n",
    "params_algorithm = {\"community_phenotype\": \"community_function_additive\", \"selection_algorithm\": \"select_best_n\", \"migration_algorithm\": \"no_migration\"}\n",
    "# Simulation\n",
    "selection_plate_df, selection_function_df = simulate_community(plate, params_simulation, params_algorithm, write_composition = False)"
   ]
  },
  {
   "cell_type": "code",
   "execution_count": 19,
   "metadata": {},
   "outputs": [
    {
     "data": {
      "image/png": "[encoded data removed]",
      "text/plain": [
       "<Figure size 432x288 with 1 Axes>"
      ]
     },
     "metadata": {
      "needs_background": "light"
     },
     "output_type": "display_data"
    }
   ],
   "source": [
    "plot_community_function(selection_function_df)"
   ]
  }
 ],
 "metadata": {
  "kernelspec": {
   "display_name": "Python 3",
   "language": "python",
   "name": "python3"
  },
  "language_info": {
   "codemirror_mode": {
    "name": "ipython",
    "version": 3
   },
   "file_extension": ".py",
   "mimetype": "text/x-python",
   "name": "python",
   "nbconvert_exporter": "python",
   "pygments_lexer": "ipython3",
   "version": "3.7.3"
  }
 },
 "nbformat": 4,
 "nbformat_minor": 2
}
