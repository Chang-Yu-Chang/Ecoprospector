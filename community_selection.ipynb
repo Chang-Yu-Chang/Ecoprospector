{
 "cells": [
  {
   "cell_type": "markdown",
   "metadata": {},
   "source": [
    "# Community Selection \n",
    "This tutorial provides an minimal example for conducting community-level selection with given selection algorthms."
   ]
  },
  {
   "cell_type": "code",
   "execution_count": 1,
   "metadata": {},
   "outputs": [
    {
     "name": "stdout",
     "output_type": "stream",
     "text": [
      "cvxpy not installed. Community.SteadyState() not available.\n"
     ]
    }
   ],
   "source": [
    "# Community simulator package\n",
    "from IPython.display import Image\n",
    "from community_simulator import *\n",
    "from community_simulator.usertools import *\n",
    "from community_simulator.visualization import *\n",
    "import seaborn as sns\n",
    "import matplotlib.pyplot as plt\n",
    "from matplotlib.backends import backend_pdf as bpdf\n",
    "import numpy as np\n",
    "import scipy as sp\n",
    "colors = sns.color_palette()\n",
    "%matplotlib inline\n",
    "\n",
    "# Community selection package\n",
    "from community_selection import *\n",
    "from community_selection.A_experiment_functions import *\n",
    "from community_selection.B_community_phenotypes import *\n",
    "from community_selection.C_selection_algorithms import *\n",
    "from community_selection.D_migration_algorithms import *"
   ]
  },
  {
   "cell_type": "markdown",
   "metadata": {},
   "source": [
    "# Library of algorithms\n",
    "List of algorithms in computing community phenotypes, selection algorithms, and migration algorithms."
   ]
  },
  {
   "cell_type": "code",
   "execution_count": 2,
   "metadata": {},
   "outputs": [
    {
     "data": {
      "text/html": [
       "<div>\n",
       "<style scoped>\n",
       "    .dataframe tbody tr th:only-of-type {\n",
       "        vertical-align: middle;\n",
       "    }\n",
       "\n",
       "    .dataframe tbody tr th {\n",
       "        vertical-align: top;\n",
       "    }\n",
       "\n",
       "    .dataframe thead th {\n",
       "        text-align: right;\n",
       "    }\n",
       "</style>\n",
       "<table border=\"1\" class=\"dataframe\">\n",
       "  <thead>\n",
       "    <tr style=\"text-align: right;\">\n",
       "      <th></th>\n",
       "      <th>AlgorithmType</th>\n",
       "      <th>AlgorithmName</th>\n",
       "    </tr>\n",
       "  </thead>\n",
       "  <tbody>\n",
       "    <tr>\n",
       "      <th>0</th>\n",
       "      <td>community_phenotype</td>\n",
       "      <td>f1_community_function_additive</td>\n",
       "    </tr>\n",
       "    <tr>\n",
       "      <th>1</th>\n",
       "      <td>community_phenotype</td>\n",
       "      <td>f2_community_function_interaction</td>\n",
       "    </tr>\n",
       "    <tr>\n",
       "      <th>2</th>\n",
       "      <td>community_phenotype</td>\n",
       "      <td>f3_community_function_additive_binary</td>\n",
       "    </tr>\n",
       "    <tr>\n",
       "      <th>3</th>\n",
       "      <td>community_phenotype</td>\n",
       "      <td>f4_community_function_interaction_binary</td>\n",
       "    </tr>\n",
       "    <tr>\n",
       "      <th>4</th>\n",
       "      <td>community_phenotype</td>\n",
       "      <td>f5_invasion_growth</td>\n",
       "    </tr>\n",
       "    <tr>\n",
       "      <th>5</th>\n",
       "      <td>community_phenotype</td>\n",
       "      <td>f6_resident_growth</td>\n",
       "    </tr>\n",
       "    <tr>\n",
       "      <th>0</th>\n",
       "      <td>selection_algorithm</td>\n",
       "      <td>select_best_n</td>\n",
       "    </tr>\n",
       "    <tr>\n",
       "      <th>1</th>\n",
       "      <td>selection_algorithm</td>\n",
       "      <td>no_selection</td>\n",
       "    </tr>\n",
       "    <tr>\n",
       "      <th>2</th>\n",
       "      <td>selection_algorithm</td>\n",
       "      <td>mixing_matrix</td>\n",
       "    </tr>\n",
       "    <tr>\n",
       "      <th>3</th>\n",
       "      <td>selection_algorithm</td>\n",
       "      <td>pairwise_XZ</td>\n",
       "    </tr>\n",
       "    <tr>\n",
       "      <th>4</th>\n",
       "      <td>selection_algorithm</td>\n",
       "      <td>mate_top_XZ</td>\n",
       "    </tr>\n",
       "    <tr>\n",
       "      <th>0</th>\n",
       "      <td>migration_algorithm</td>\n",
       "      <td>no_migration</td>\n",
       "    </tr>\n",
       "    <tr>\n",
       "      <th>1</th>\n",
       "      <td>migration_algorithm</td>\n",
       "      <td>migration_factor_from_function</td>\n",
       "    </tr>\n",
       "  </tbody>\n",
       "</table>\n",
       "</div>"
      ],
      "text/plain": [
       "         AlgorithmType                             AlgorithmName\n",
       "0  community_phenotype            f1_community_function_additive\n",
       "1  community_phenotype         f2_community_function_interaction\n",
       "2  community_phenotype     f3_community_function_additive_binary\n",
       "3  community_phenotype  f4_community_function_interaction_binary\n",
       "4  community_phenotype                        f5_invasion_growth\n",
       "5  community_phenotype                        f6_resident_growth\n",
       "0  selection_algorithm                             select_best_n\n",
       "1  selection_algorithm                              no_selection\n",
       "2  selection_algorithm                             mixing_matrix\n",
       "3  selection_algorithm                               pairwise_XZ\n",
       "4  selection_algorithm                               mate_top_XZ\n",
       "0  migration_algorithm                              no_migration\n",
       "1  migration_algorithm            migration_factor_from_function"
      ]
     },
     "execution_count": 2,
     "metadata": {},
     "output_type": "execute_result"
    }
   ],
   "source": [
    "make_algorithm_library()"
   ]
  },
  {
   "cell_type": "markdown",
   "metadata": {},
   "source": [
    "# Examples\n",
    "1. Set up parameters \n",
    "2. Make inital state and put together consumer and resource initial states into a plate\n",
    "3. Simulate the community\n",
    "\n",
    "Set up the simulation parameters "
   ]
  },
  {
   "cell_type": "code",
   "execution_count": 3,
   "metadata": {},
   "outputs": [],
   "source": [
    "# Make dynanmics by default we will use the microbial consumer resource model\n",
    "def dNdt(N,R,params):\n",
    "    return MakeConsumerDynamics(assumptions)(N,R,params)\n",
    "def dRdt(N,R,params):\n",
    "    return MakeResourceDynamics(assumptions)(N,R,params)\n",
    "dynamics = [dNdt,dRdt]\n",
    "\n",
    "# Assumptions\n",
    "assumptions = a_default.copy() # Start with default parameters\n",
    "assumptions.update({'n_wells':24, 'c1' :0.1, 'muc':1, 'm':0, \"response\":\"type III\",\n",
    "                    'q': 0.5,\n",
    "                   'SA': np.concatenate([[10], 60*np.ones(3)]), 'MA': np.concatenate([[10], 30*np.ones(3)])}) # Concatenate to creat a super family\n",
    "assumptions[\"sigma\"] = 1 # Standard deviation for drawing specifc speices/interaction function\n",
    "assumptions[\"alpha\"] = 1 # Scaling factor between species- and interaction-specific function variances\n",
    "\n",
    "# Prepare experiment setup \n",
    "params, species_pool, species_function, interaction_function = prepare_experiment(assumptions)\n",
    "\n",
    "## Simulation parameters\n",
    "params_simulation = {\n",
    "    \"n_propagation\": 24, # Length of propagation, or hours within a growth cycle\n",
    "    \"n_transfer\": 5, # Number of transfer, or number of passage\n",
    "    \"dilution\": 1/1000, # Dilution factor for transfer\n",
    "    \"pool\": species_pool\n",
    "}"
   ]
  },
  {
   "cell_type": "markdown",
   "metadata": {},
   "source": [
    "# Control"
   ]
  },
  {
   "cell_type": "code",
   "execution_count": 4,
   "metadata": {},
   "outputs": [
    {
     "name": "stdout",
     "output_type": "stream",
     "text": [
      "Transfer 1 done\n",
      "Transfer 2 done\n",
      "Transfer 3 done\n",
      "Transfer 4 done\n",
      "Transfer 5 done\n"
     ]
    }
   ],
   "source": [
    "# Make initial state\n",
    "init_state = MakeInitialState(assumptions)\n",
    "\n",
    "# Make plate\n",
    "plate = Community(init_state, dynamics, params, scale = 10**6, parallel = True) \n",
    "setattr(plate, \"species_function\", species_function)\n",
    "setattr(plate, \"interaction_function\", interaction_function)\n",
    "\n",
    "# Choose the selection algorithms to run\n",
    "params_algorithm = {\"community_phenotype\": \"f6_resident_growth\", \"selection_algorithm\": \"no_selection\", \"migration_algorithm\": \"no_migration\"}\n",
    "\n",
    "# Simulation\n",
    "ctrl_plate_df, ctrl_function_df = simulate_community(plate, assumptions = assumptions, params_simulation = params_simulation, params_algorithm = params_algorithm, write_composition = False)"
   ]
  },
  {
   "cell_type": "code",
   "execution_count": 5,
   "metadata": {},
   "outputs": [
    {
     "data": {
      "image/png": "[encoded data removed]",
      "text/plain": [
       "<Figure size 432x288 with 1 Axes>"
      ]
     },
     "metadata": {
      "needs_background": "light"
     },
     "output_type": "display_data"
    }
   ],
   "source": [
    "plot_community_function(ctrl_function_df)"
   ]
  },
  {
   "cell_type": "markdown",
   "metadata": {},
   "source": [
    "## Selection\n",
    "Select top 25% for example"
   ]
  },
  {
   "cell_type": "code",
   "execution_count": 6,
   "metadata": {},
   "outputs": [
    {
     "name": "stdout",
     "output_type": "stream",
     "text": [
      "Transfer 1 done\n",
      "Transfer 2 done\n",
      "Transfer 3 done\n",
      "Transfer 4 done\n",
      "Transfer 5 done\n"
     ]
    }
   ],
   "source": [
    "# Make initial state\n",
    "init_state = MakeInitialState(assumptions)\n",
    "\n",
    "# Make plate\n",
    "plate = Community(init_state, dynamics, params, scale = 10**6, parallel = True) \n",
    "setattr(plate, \"species_function\", species_function)\n",
    "setattr(plate, \"interaction_function\", interaction_function)\n",
    "\n",
    "# Choose the selection algorithms to run\n",
    "params_algorithm = {\"community_phenotype\": \"f6_resident_growth\", \"selection_algorithm\": \"select_best_n\", \"migration_algorithm\": \"no_migration\"}\n",
    "\n",
    "# Simulation\n",
    "selection_plate_df, selection_function_df = simulate_community(plate, assumptions = assumptions, params_simulation = params_simulation, params_algorithm = params_algorithm, write_composition = False)"
   ]
  },
  {
   "cell_type": "code",
   "execution_count": 7,
   "metadata": {
    "scrolled": true
   },
   "outputs": [
    {
     "data": {
      "image/png": "[encoded data removed]",
      "text/plain": [
       "<Figure size 432x288 with 1 Axes>"
      ]
     },
     "metadata": {
      "needs_background": "light"
     },
     "output_type": "display_data"
    }
   ],
   "source": [
    "plot_community_function(selection_function_df)"
   ]
  },
  {
   "cell_type": "markdown",
   "metadata": {},
   "source": [
    "# Make the monoculutre plate "
   ]
  },
  {
   "cell_type": "code",
   "execution_count": 8,
   "metadata": {},
   "outputs": [
    {
     "ename": "KeyError",
     "evalue": "'n_transfer'",
     "output_type": "error",
     "traceback": [
      "\u001b[0;31m---------------------------------------------------------------------------\u001b[0m",
      "\u001b[0;31mKeyError\u001b[0m                                  Traceback (most recent call last)",
      "\u001b[0;32m<ipython-input-8-41767756b866>\u001b[0m in \u001b[0;36m<module>\u001b[0;34m\u001b[0m\n\u001b[1;32m     12\u001b[0m \u001b[0;34m\u001b[0m\u001b[0m\n\u001b[1;32m     13\u001b[0m \u001b[0;31m# Simulation\u001b[0m\u001b[0;34m\u001b[0m\u001b[0;34m\u001b[0m\u001b[0;34m\u001b[0m\u001b[0m\n\u001b[0;32m---> 14\u001b[0;31m \u001b[0mmono_plate\u001b[0m\u001b[0;34m,\u001b[0m \u001b[0mmono_function_df\u001b[0m \u001b[0;34m=\u001b[0m \u001b[0msimulate_community\u001b[0m\u001b[0;34m(\u001b[0m\u001b[0mplate\u001b[0m\u001b[0;34m,\u001b[0m \u001b[0mparams_simulation\u001b[0m\u001b[0;34m,\u001b[0m \u001b[0mparams_algorithm\u001b[0m\u001b[0;34m,\u001b[0m \u001b[0mwrite_composition\u001b[0m \u001b[0;34m=\u001b[0m \u001b[0;32mFalse\u001b[0m\u001b[0;34m)\u001b[0m\u001b[0;34m\u001b[0m\u001b[0;34m\u001b[0m\u001b[0m\n\u001b[0m\u001b[1;32m     15\u001b[0m \u001b[0mmono_plate\u001b[0m\u001b[0;34m[\u001b[0m\u001b[0;34m(\u001b[0m\u001b[0mmono_plate\u001b[0m\u001b[0;34m[\u001b[0m\u001b[0;34m'Transfer'\u001b[0m\u001b[0;34m]\u001b[0m \u001b[0;34m==\u001b[0m \u001b[0mstr\u001b[0m\u001b[0;34m(\u001b[0m\u001b[0;36m2\u001b[0m\u001b[0;34m)\u001b[0m\u001b[0;34m)\u001b[0m \u001b[0;34m&\u001b[0m \u001b[0;34m(\u001b[0m\u001b[0mmono_plate\u001b[0m\u001b[0;34m[\u001b[0m\u001b[0;34m'Type'\u001b[0m\u001b[0;34m]\u001b[0m \u001b[0;34m==\u001b[0m \u001b[0;34m'consumer'\u001b[0m\u001b[0;34m)\u001b[0m\u001b[0;34m]\u001b[0m\u001b[0;34m\u001b[0m\u001b[0;34m\u001b[0m\u001b[0m\n",
      "\u001b[0;32m~/Desktop/Lab/community-selection/community_selection/A_experiment_functions.py\u001b[0m in \u001b[0;36msimulate_community\u001b[0;34m(plate, assumptions, params_simulation, params_algorithm, file_name, assembly_type, write_composition)\u001b[0m\n\u001b[1;32m    317\u001b[0m \u001b[0;34m\u001b[0m\u001b[0m\n\u001b[1;32m    318\u001b[0m     \u001b[0;31m# Run simulation\u001b[0m\u001b[0;34m\u001b[0m\u001b[0;34m\u001b[0m\u001b[0;34m\u001b[0m\u001b[0m\n\u001b[0;32m--> 319\u001b[0;31m     \u001b[0;32mfor\u001b[0m \u001b[0mi\u001b[0m \u001b[0;32min\u001b[0m \u001b[0mrange\u001b[0m\u001b[0;34m(\u001b[0m\u001b[0;36m0\u001b[0m\u001b[0;34m,\u001b[0m \u001b[0mparams_simulation\u001b[0m\u001b[0;34m[\u001b[0m\u001b[0;34m\"n_transfer\"\u001b[0m\u001b[0;34m]\u001b[0m\u001b[0;34m)\u001b[0m\u001b[0;34m:\u001b[0m\u001b[0;34m\u001b[0m\u001b[0;34m\u001b[0m\u001b[0m\n\u001b[0m\u001b[1;32m    320\u001b[0m \u001b[0;34m\u001b[0m\u001b[0m\n\u001b[1;32m    321\u001b[0m         \u001b[0;31m# Propagation\u001b[0m\u001b[0;34m\u001b[0m\u001b[0;34m\u001b[0m\u001b[0;34m\u001b[0m\u001b[0m\n",
      "\u001b[0;31mKeyError\u001b[0m: 'n_transfer'"
     ]
    }
   ],
   "source": [
    "# Make initial state\n",
    "N0 = make_synthetic_mono(assumptions)[[\"W\" + str(i) for i  in range(30)]]\n",
    "init_state = make_initial_state(assumptions, N0)\n",
    "\n",
    "# Make plate\n",
    "plate = Community(init_state, dynamics, params, scale = 10**6, parallel = True)\n",
    "setattr(plate, \"species_function\", species_function)\n",
    "setattr(plate, \"interaction_function\", interaction_function)\n",
    "\n",
    "# Choose the selection algorithms to run\n",
    "params_algorithm = {\"community_phenotype\": \"f1_community_function_additive\", \"selection_algorithm\": \"no_selection\", \"migration_algorithm\": \"no_migration\"}\n",
    "\n",
    "# Simulation\n",
    "mono_plate, mono_function_df = simulate_community(plate, params_simulation, params_algorithm, write_composition = False)\n",
    "mono_plate[(mono_plate['Transfer'] == str(2)) & (mono_plate['Type'] == 'consumer')]"
   ]
  }
 ],
 "metadata": {
  "kernelspec": {
   "display_name": "Python 3",
   "language": "python",
   "name": "python3"
  },
  "language_info": {
   "codemirror_mode": {
    "name": "ipython",
    "version": 3
   },
   "file_extension": ".py",
   "mimetype": "text/x-python",
   "name": "python",
   "nbconvert_exporter": "python",
   "pygments_lexer": "ipython3",
   "version": "3.7.3"
  }
 },
 "nbformat": 4,
 "nbformat_minor": 2
}
