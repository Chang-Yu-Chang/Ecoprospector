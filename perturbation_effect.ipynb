{
 "cells": [
  {
   "cell_type": "markdown",
   "metadata": {},
   "source": [
    "# Test code"
   ]
  },
  {
   "cell_type": "code",
   "execution_count": 1,
   "metadata": {
    "scrolled": true
   },
   "outputs": [],
   "source": [
    "# Community simulator package\n",
    "from IPython.display import Image\n",
    "from community_simulator import *\n",
    "from community_simulator.usertools import *\n",
    "from community_simulator.visualization import *\n",
    "import seaborn as sns\n",
    "import matplotlib.pyplot as plt\n",
    "from matplotlib.backends import backend_pdf as bpdf\n",
    "import numpy as np\n",
    "import scipy as sp\n",
    "import pickle\n",
    "colors = sns.color_palette()\n",
    "%matplotlib inline\n",
    "\n",
    "# Community selection package\n",
    "from community_selection import *\n",
    "from community_selection.A_experiment_functions import *\n",
    "from community_selection.B_community_phenotypes import *\n",
    "from community_selection.C_selection_algorithms import *\n",
    "from community_selection.D_migration_algorithms import *\n",
    "from community_selection.usertools import *"
   ]
  },
  {
   "cell_type": "code",
   "execution_count": 30,
   "metadata": {},
   "outputs": [],
   "source": [
    "# Make dynanmics by default we will use the microbial consumer resource model\n",
    "def dNdt(N,R,params):\n",
    "    return MakeConsumerDynamics(assumptions)(N,R,params)\n",
    "def dRdt(N,R,params):\n",
    "    return MakeResourceDynamics(assumptions)(N,R,params)\n",
    "dynamics = [dNdt,dRdt]\n",
    "\n",
    "# Global parameters\n",
    "## Default parameters from community-simulator\n",
    "## !!!Don't touch this dictionary!!!\n",
    "assumptions = a_default.copy() # Start with default parameters\n",
    "\n",
    "## Update parameters for community-selection\n",
    "assumptions.update({\n",
    "    'SA': 2100 * np.ones(1), #Number of species in each specialist family (here, 3 families of 60 species)\n",
    "    'MA': 90 * np.ones(1), #Number of resources in each class\n",
    "    'Sgen': 0, #Number of generalist species (unbiased sampling over alll resource classes)\n",
    "    \"n_wells\": 12,\n",
    "    \"m\": 0, # Mortality\n",
    "    \"scale\": 10**6,  #scale is a conversion factor specifying the number of individual microbial cells present when N = 1.\n",
    "    \"sigma\" : 1, # Standard deviation for drawing specifc speices/interaction function\n",
    "    \"alpha\": 1, # Scaling factor between species- and interaction-specific function variances\n",
    "    \"l\": 0, # Set leakage function to 0 to switch off cross-feeding\n",
    "    \"response\": \"type III\",\n",
    "    \"sigma_max\": 5,\n",
    "    'R0_food': 1000, # Total amount of supplied food\n",
    "    \"rich_medium\": True, # Number of food types passed to R0\n",
    "    \"binary_threshold\": 1,  \n",
    "    # The parameters below will be passed to params_simulation\n",
    "    \"n_propagation\": 1, # Length of propagation, or hours within a growth cycle\n",
    "    \"n_transfer\": 4, # Number of total transfer, or number of passage\n",
    "    \"n_transfer_selection\": 2, # Number of transfer implementing seleciton regimes\n",
    "    \"dilution\": 1/1000, # Dilution factor at every transfer\n",
    "    \"n_inoc\": 10**6,  #Number of cells sampled from the regional species at start\n",
    "    \"n_migration\": 10**6, # Number of cells to be migrated in the migration perturbation algorithm\n",
    "    \"R_percent\": 0, # Fracion of new resources to be spiked in to the media in the resource perturbation algorithm\n",
    "    \"selected_function\": \"f1_additive\"\n",
    "})\n",
    "\n",
    "# Prepare experiment setup in this universe\n",
    "seed_temp = 1\n",
    "params, params_simulation = prepare_experiment(assumptions, seed = seed_temp)"
   ]
  },
  {
   "cell_type": "code",
   "execution_count": 61,
   "metadata": {},
   "outputs": [
    {
     "data": {
      "text/plain": [
       "array([0])"
      ]
     },
     "execution_count": 61,
     "metadata": {},
     "output_type": "execute_result"
    }
   ],
   "source": [
    "n = 1\n",
    "x = [i for i in range(10)]\n",
    "community_function = x\n",
    "\n",
    "community_function\n",
    "np.sort(community_function)[::-1]\n",
    "cut_off = sorted_community_function[n-1]\n",
    "np.where(community_function == cut_off)[0][::-1]\n",
    "\n",
    "#np.where(community_function >= np.max(community_function))[0][::-1] \n"
   ]
  },
  {
   "cell_type": "code",
   "execution_count": 66,
   "metadata": {},
   "outputs": [
    {
     "data": {
      "text/plain": [
       "'0124'"
      ]
     },
     "execution_count": 66,
     "metadata": {},
     "output_type": "execute_result"
    }
   ],
   "source": [
    "x = \"W0124\"\n",
    "x[1:len(x)]"
   ]
  },
  {
   "cell_type": "code",
   "execution_count": 31,
   "metadata": {},
   "outputs": [],
   "source": [
    "data_directory = \"data/test/\"\n",
    "list_algorithms = [\"simple_screening\"]\n",
    "i = 0\n",
    "algorithms = make_algorithms(params_simulation)\n"
   ]
  },
  {
   "cell_type": "code",
   "execution_count": 4,
   "metadata": {},
   "outputs": [],
   "source": [
    "assumptions = assumptions\n",
    "params = params\n",
    "dynamics = dynamics\n",
    "params_simulation = params_simulation\n",
    "params_algorithm = algorithms[algorithms[\"algorithm_name\"] == list_algorithms[i]]\n",
    "file_name = data_directory + \"SP\" + str(seed_temp) + \"-\" + list_algorithms[i]\n",
    "assembly_type = str(list_algorithms[i])"
   ]
  },
  {
   "cell_type": "code",
   "execution_count": 5,
   "metadata": {},
   "outputs": [
    {
     "name": "stdout",
     "output_type": "stream",
     "text": [
      "\n",
      "Generating initial plate\n",
      "\n",
      "Adding attributes that are essential to the community function to the plate object\n",
      "\n",
      "Start propogation\n",
      "Transfer 1\n",
      "\n",
      "Algorithm simple_screening finished\n"
     ]
    }
   ],
   "source": [
    "\"\"\"\n",
    "simple screen\n",
    "\"\"\"\n",
    "# Set seeds\n",
    "np.random.seed(2)\n",
    "\n",
    "# Make initial state\n",
    "init_state = MakeInitialState(assumptions)\n",
    "\n",
    "# Make plate\n",
    "plate = Community(init_state, dynamics, params, scale = assumptions[\"scale\"], parallel = True) \n",
    "\n",
    "# Update the community composition by sampling from the pool\n",
    "print(\"\\nGenerating initial plate\")\n",
    "plate.N = sample_from_pool(plate.N, scale = assumptions[\"scale\"], inocula = params_simulation[\"n_inoc\"])\n",
    "\n",
    "# Update the supplied resource if assumptions[\"rich_medium\"]\n",
    "if assumptions[\"rich_medium\"]:\n",
    "    plate.R = make_rich_medium(plate.R, assumptions)\n",
    "    plate.R0 = make_rich_medium(plate.R, assumptions) # R0 for refreshing media on passaging if \"refresh_resoruce\" is turned on\n",
    "\n",
    "# Add the attributes that are essential to the function measurement to the plate objects \n",
    "print(\"\\nAdding attributes that are essential to the community function to the plate object\")\n",
    "plate = add_community_function(plate, dynamics, assumptions, params, params_simulation, params_algorithm)\n",
    "\n",
    "# Empty list for saving data\n",
    "plate_data_list = list() # Plate composition\n",
    "community_function_list = list() # Community function\n",
    "\n",
    "# Save the inocula composition\n",
    "plate_data = reshape_plate_data(plate, transfer_loop_index = 0, assembly_type = assembly_type, community_function_name = params_algorithm[\"community_phenotype\"][0]) # Initial state\n",
    "plate_data_list.append(plate_data)\n",
    "\n",
    "# Save the initial function\n",
    "community_function = globals()[params_algorithm[\"community_phenotype\"][0]](plate, assumptions = assumptions) # Community phenotype\n",
    "richness = np.sum(plate.N >= 1/assumptions[\"scale\"], axis = 0) # Richness\n",
    "biomass = list(np.sum(plate.N, axis = 0)) # Biomass\n",
    "function_data = reshape_function_data(community_function_name = params_algorithm[\"community_phenotype\"][0], community_function = community_function, richness = richness, biomass = biomass, transfer_loop_index = 0, assembly_type = assembly_type)        \n",
    "community_function_list.append(function_data) # Transfer = 0 means that it's before selection regime works upon\n",
    "\n",
    "\n",
    "# Output the plate composition and community functions if write_composition set True\n",
    "plate_data.to_csv(file_name + \"-\" + params_algorithm[\"community_phenotype\"][0] + \"-T\" + \"{:02d}\".format(0) + \"-composition.txt\", index = False)\n",
    "function_data.to_csv(file_name + \"-\" + params_algorithm[\"community_phenotype\"][0] + \"-T\" + \"{:02d}\".format(0) + \"-function.txt\", index = False)\n",
    "\n",
    "print(\"\\nStart propogation\")\n",
    "# Run simulation\n",
    "for i in range(0, params_simulation[\"n_transfer\"]):\n",
    "    # Algorithms used in this transfer\n",
    "    phenotype_algorithm = params_algorithm[\"community_phenotype\"][i]\n",
    "    selection_algorithm = params_algorithm[\"selection_algorithm\"][i]\n",
    "    migration_algorithm = params_algorithm[\"migration_algorithm\"][i]\n",
    "\n",
    "    # Print the propagation progress\n",
    "    if (i % 5) == 0:\n",
    "        print(\"Transfer \" + str(i+1))\n",
    "\n",
    "    # Propagation\n",
    "    plate.Propagate(params_simulation[\"n_propagation\"])\n",
    "\n",
    "    # Append the composition to a list\n",
    "    plate_data = reshape_plate_data(plate, transfer_loop_index = i + 1, assembly_type = assembly_type, community_function_name = phenotype_algorithm) # Transfer = 0 means that it's before selection regime works upon\n",
    "    plate_data_list.append(plate_data)\n",
    "\n",
    "    # Community phenotype, richness, and biomass\n",
    "    community_function = globals()[phenotype_algorithm](plate, assumptions = assumptions) # Community phenotype\n",
    "    richness = np.sum(plate.N >= 1/assumptions[\"scale\"], axis = 0) # Richness\n",
    "    biomass = list(np.sum(plate.N, axis = 0)) # Biomass\n",
    "    function_data = reshape_function_data(community_function_name = phenotype_algorithm, community_function = community_function, richness = richness, biomass = biomass, transfer_loop_index = i + 1 , assembly_type = assembly_type)        \n",
    "    community_function_list.append(function_data) # Transfer = 0 means that it's before selection regime works upon\n",
    "\n",
    "    # Output the plate composition and community functions if write_composition set True\n",
    "    if ((i+1) == assumptions[\"n_transfer_selection\"]) or ((i+1) == assumptions[\"n_transfer\"]):\n",
    "            plate_data.to_csv(file_name + \"-\" + phenotype_algorithm + \"-T\" + \"{:02d}\".format(i + 1) + \"-composition.txt\", index = False) # Transfer = 0 means that it's before selection regime works upon\n",
    "    \n",
    "    function_data.to_csv(file_name + \"-\" + phenotype_algorithm + \"-T\" + \"{:02d}\".format(i + 1) + \"-function.txt\", index = False)\n",
    "\n",
    "    # Save the plate object\n",
    "    if (i+1) == assumptions[\"n_transfer_selection\"]:\n",
    "        with open(data_directory + \"test.p\", \"wb\") as f:\n",
    "            pickle.dump({\"plate_N\":plate.N, \"plate_R\":plate.R}, f)\n",
    "\n",
    "    # Passage and tranfer matrix\n",
    "    transfer_matrix = globals()[selection_algorithm](community_function)\n",
    "    plate.Passage(transfer_matrix * params_simulation[\"dilution\"])\n",
    "\n",
    "    # Migration\n",
    "    m = globals()[migration_algorithm](community_function) \n",
    "    plate.N = migrate_from_pool(plate, migration_factor = m, scale = assumptions[\"scale\"], inocula = params_simulation[\"n_migration\"]) # By default, n_migration is the same as n_inoc\n",
    "\n",
    "print(\"\\nAlgorithm \"+ params_algorithm[\"algorithm_name\"][0] + \" finished\")\n"
   ]
  },
  {
   "cell_type": "code",
   "execution_count": 41,
   "metadata": {},
   "outputs": [
    {
     "ename": "FileNotFoundError",
     "evalue": "[Errno 2] No such file or directory: 'data/test/test.p'",
     "output_type": "error",
     "traceback": [
      "\u001b[0;31m---------------------------------------------------------------------------\u001b[0m",
      "\u001b[0;31mFileNotFoundError\u001b[0m                         Traceback (most recent call last)",
      "\u001b[0;32m<ipython-input-41-dc029914d11b>\u001b[0m in \u001b[0;36m<module>\u001b[0;34m\u001b[0m\n\u001b[1;32m      2\u001b[0m \u001b[0mi\u001b[0m \u001b[0;34m=\u001b[0m \u001b[0;36m0\u001b[0m\u001b[0;34m\u001b[0m\u001b[0;34m\u001b[0m\u001b[0m\n\u001b[1;32m      3\u001b[0m \u001b[0;32mimport\u001b[0m \u001b[0mpickle\u001b[0m\u001b[0;34m\u001b[0m\u001b[0;34m\u001b[0m\u001b[0m\n\u001b[0;32m----> 4\u001b[0;31m \u001b[0mplate_screen\u001b[0m \u001b[0;34m=\u001b[0m \u001b[0mpickle\u001b[0m\u001b[0;34m.\u001b[0m\u001b[0mload\u001b[0m\u001b[0;34m(\u001b[0m\u001b[0mopen\u001b[0m\u001b[0;34m(\u001b[0m\u001b[0;34m\"data/test/test.p\"\u001b[0m\u001b[0;34m,\u001b[0m \u001b[0;34m\"rb\"\u001b[0m\u001b[0;34m)\u001b[0m\u001b[0;34m)\u001b[0m\u001b[0;34m\u001b[0m\u001b[0;34m\u001b[0m\u001b[0m\n\u001b[0m\u001b[1;32m      5\u001b[0m \u001b[0;34m\u001b[0m\u001b[0m\n\u001b[1;32m      6\u001b[0m \u001b[0massumptions\u001b[0m \u001b[0;34m=\u001b[0m \u001b[0massumptions\u001b[0m\u001b[0;34m\u001b[0m\u001b[0;34m\u001b[0m\u001b[0m\n",
      "\u001b[0;31mFileNotFoundError\u001b[0m: [Errno 2] No such file or directory: 'data/test/test.p'"
     ]
    }
   ],
   "source": [
    "list_algorithms = [\"migration\"]\n",
    "i = 0\n",
    "import pickle\n",
    "plate_screen = pickle.load(open(\"data/test/test.p\", \"rb\"))\n",
    "\n",
    "assumptions = assumptions\n",
    "params = params\n",
    "dynamics = dynamics\n",
    "params_simulation = params_simulation\n",
    "params_algorithm = algorithms[algorithms[\"algorithm_name\"] == list_algorithms[i]]\n",
    "file_name = data_directory + \"SP\" + str(seed_temp) + \"-\" + list_algorithms[i]\n",
    "assembly_type = str(list_algorithms[i])\n",
    "plate_screen[\"plate_N\"]"
   ]
  },
  {
   "cell_type": "code",
   "execution_count": 39,
   "metadata": {},
   "outputs": [
    {
     "name": "stdout",
     "output_type": "stream",
     "text": [
      "\n",
      "Generating initial plate\n",
      "\n",
      "Adding attributes that are essential to the community function to the plate object\n",
      "Migration\n"
     ]
    }
   ],
   "source": [
    "\"\"\"\n",
    "Perturbation\n",
    "\"\"\"\n",
    "# Set seeds\n",
    "np.random.seed(2)\n",
    "\n",
    "# Make initial state\n",
    "init_state = MakeInitialState(assumptions)\n",
    "\n",
    "# Make plate\n",
    "plate = Community(init_state, dynamics, params, scale = assumptions[\"scale\"], parallel = True) \n",
    "\n",
    "# Update the community composition \n",
    "print(\"\\nGenerating initial plate\")\n",
    "plate.N = plate_screen[\"plate_N\"]\n",
    "\n",
    "# Update the supplied resource if assumptions[\"rich_medium\"]\n",
    "plate.R = plate_screen[\"plate_R\"]\n",
    "if assumptions[\"rich_medium\"]:\n",
    "    plate.R0 = make_rich_medium(plate.R, assumptions) # R0 for refreshing media on passaging if \"refresh_resoruce\" is turned on\n",
    "\n",
    "# Add the attributes that are essential to the function measurement to the plate objects \n",
    "print(\"\\nAdding attributes that are essential to the community function to the plate object\")\n",
    "plate = add_community_function(plate, dynamics, assumptions, params, params_simulation, params_algorithm)\n",
    "\n",
    "# Refill the plate with media\n",
    "transfer_matrix = globals()[\"no_selection\"](community_function)\n",
    "plate.Passage(transfer_matrix * params_simulation[\"dilution\"])\n",
    "\n",
    "# Perturbation \n",
    "# Migration\n",
    "migration_algorithm = params_algorithm[\"migration_algorithm\"][params_simulation[\"n_transfer_selection\"]-1]\n",
    "m = globals()[migration_algorithm](community_function) \n",
    "plate.N = migrate_from_pool(plate, migration_factor = m, scale = assumptions[\"scale\"], inocula = params_simulation[\"n_migration\"]) # By default, n_migration is the same as n_inoc\n"
   ]
  },
  {
   "cell_type": "code",
   "execution_count": 23,
   "metadata": {},
   "outputs": [
    {
     "name": "stdout",
     "output_type": "stream",
     "text": [
      "\n",
      "Generating initial plate\n",
      "\n",
      "Adding attributes that are essential to the community function to the plate object\n"
     ]
    }
   ],
   "source": [
    "# Perturbation\n",
    "if  'knock_in' in params_algorithm[\"algorithm_name\"][0] and selection_algorithm == 'select_top':\n",
    "    winning_index = np.where(community_function >= np.max(community_function))[0][0] \n",
    "    for k in plate.N.columns:\n",
    "        if k != plate.N.columns[winning_index]:\n",
    "            s_id = np.random.choice(np.where(plate.N[k]==0)[0])\n",
    "            if 'isolates' in params_algorithm[\"algorithm_name\"][0]:\n",
    "                # Knock in an isolate that is 1) not in the resident community 2) have high monoculture function (above 90% isolates in the pool)  \n",
    "                temp = np.logical_and(np.array(plate.N[k]==0), plate.isolate_function >= np.percentile(plate.isolate_function, q = 90))\n",
    "                s_id = np.random.choice(np.where(temp)[0]) ## add error check if no isolate does better than the community\n",
    "            plate.N[k][s_id]= 1/params_simulation[\"dilution\"] * 1/assumptions[\"scale\"]\n",
    "if 'knock_out' in params_algorithm[\"algorithm_name\"][0] and selection_algorithm == 'select_top':\n",
    "    winning_index = np.where(community_function >= np.max(community_function))[0][0]\n",
    "    for k in plate.N.columns:\n",
    "        if k != plate.N.columns[winning_index]:\n",
    "            s_id = np.random.choice(np.where(plate.N[k]>0)[0])\n",
    "            plate.N[k][s_id]=0        \n",
    "if 'bottleneck' in params_algorithm[\"algorithm_name\"][0]  and selection_algorithm == 'select_top':\n",
    "    winning_index = np.where(community_function >= np.max(community_function))[0][0] \n",
    "    dilution_matrix = np.eye(assumptions['n_wells'])\n",
    "    dilution_matrix[winning_index,winning_index] = 0\n",
    "    plate.Passage(np.eye(assumptions['n_wells'])* params_simulation[\"dilution\"])\n",
    "\n",
    "if 'resource' in params_algorithm[\"algorithm_name\"][0] and selection_algorithm == 'select_top':\n",
    "    winning_index = np.where(community_function >= np.max(community_function))[0][0]\n",
    "    #Remove fresh environment that was added by passage\n",
    "    plate.R = plate.R - plate.R0\n",
    "    #change default fresh renvironment so that all subsequent rounds use R0\n",
    "    for k in plate.R0.columns:\n",
    "        if k != plate.R0.columns[winning_index]: \n",
    "            #By default pick 2 resources at randomk\n",
    "            r_id_remove = np.random.choice(np.where(plate.R0[k]>=0)[0]) \n",
    "            r_id_add = np.random.choice(np.where(plate.R0[k]>=0)[0])\n",
    "            if 'add' in params_algorithm[\"algorithm_name\"][0]: #remove from top and add to random\n",
    "                r_id_remove = np.where(plate.R0[k]==np.max(plate.R0[k]))[0]\n",
    "            if 'remove' in params_algorithm[\"algorithm_name\"][0]: #remove from random and add to bottom\n",
    "                r_id_add = np.where(plate.R0[k]==np.min(plate.R0[k]))[0]\n",
    "            if 'rescale_add' in params_algorithm[\"algorithm_name\"][0]:  # Increase Fraction of resource\n",
    "                plate.R0[k][r_id_add] = plate.R0[k][r_id_add]*(1+params_simulation['R_percent']) #increase resource conc by fixed %\n",
    "            elif 'rescale_remove' in params_algorithm[\"algorithm_name\"][0]: # Decrease Fraction of resource\n",
    "                plate.R0[k][r_id_remove] = plate.R0[k][r_id_remove]*(1-params_simulation['R_percent'])  #decrease resource \n",
    "            elif 'resource_old' in params_algorithm[\"algorithm_name\"][0]:\n",
    "                plate.R0[k] = plate.R0[k] * (1-params_simulation['R_percent']) #Dilute old resources\n",
    "                plate.R0[k][r_id_add] = plate.R0[k][r_id_add] + (assumptions['R0_food']*params_simulation['R_percent'])\n",
    "            else: #Default to resource swap.\n",
    "                plate.R0[k][r_id_add] = plate.R0[k][r_id_add] + (plate.R0[k][r_id_remove]*params_simulation['R_percent']) #add new resources\n",
    "                plate.R0[k][r_id_remove] = plate.R0[k][r_id_remove]*(1-params_simulation['R_percent']) #remove new resources\n",
    "    plate.R0 = plate.R0/np.sum(plate.R0)*assumptions['R0_food'] #Keep this to avoid floating point error and rescale when neeeded.\n",
    "    #add new fresh environment (so that this round uses R0\n",
    "    plate.R = plate.R + plate.R0\n",
    "    \n",
    "    \n",
    "if False:\n",
    "    # Save the inocula composition\n",
    "    plate_data = reshape_plate_data(plate, transfer_loop_index = 0, assembly_type = assembly_type, community_function_name = params_algorithm[\"community_phenotype\"][0]) # Initial state\n",
    "    # Save the initial function\n",
    "    community_function = globals()[params_algorithm[\"community_phenotype\"][0]](plate, assumptions = assumptions) # Community phenotype\n",
    "    richness = np.sum(plate.N >= 1/assumptions[\"scale\"], axis = 0) # Richness\n",
    "    biomass = list(np.sum(plate.N, axis = 0)) # Biomass\n",
    "    function_data = reshape_function_data(community_function_name = params_algorithm[\"community_phenotype\"][0], community_function = community_function, richness = richness, biomass = biomass, transfer_loop_index = 0, assembly_type = assembly_type)        \n",
    "    # Output the plate composition and community functions if write_composition set True\n",
    "    plate_data.to_csv(file_name + \"-\" + params_algorithm[\"community_phenotype\"][0] + \"-T\" + \"{:02d}\".format(0) + \"-composition.txt\", index = False)\n",
    "    function_data.to_csv(file_name + \"-\" + params_algorithm[\"community_phenotype\"][0] + \"-T\" + \"{:02d}\".format(0) + \"-function.txt\", index = False)\n",
    "\n"
   ]
  },
  {
   "cell_type": "code",
   "execution_count": 11,
   "metadata": {},
   "outputs": [
    {
     "name": "stdout",
     "output_type": "stream",
     "text": [
      "\n",
      "Generating initial plate\n",
      "\n",
      "Adding attributes that are essential to the community function to the plate object\n",
      "\n",
      "Start propogation\n",
      "Transfer 1\n",
      "\n",
      "Algorithm simple_screening finished\n"
     ]
    }
   ],
   "source": [
    "\n",
    "print(\"\\nStart propogation\")\n",
    "# Run simulation. Starting from the first transfer of stablization\n",
    "for i in range(params_simulation[\"n_transfer_selection\"]-1, params_simulation[\"n_transfer\"]):\n",
    "    # Algorithms used in this transfer\n",
    "    phenotype_algorithm = params_algorithm[\"community_phenotype\"][i]\n",
    "    selection_algorithm = params_algorithm[\"selection_algorithm\"][i]\n",
    "    migration_algorithm = params_algorithm[\"migration_algorithm\"][i]\n",
    "\n",
    "    # Print the propagation progress\n",
    "    if (i % 5) == 0:\n",
    "        print(\"Transfer \" + str(i+1))\n",
    "\n",
    "    # Propagation\n",
    "    plate.Propagate(params_simulation[\"n_propagation\"])\n",
    "\n",
    "    # Append the composition to a list\n",
    "    plate_data = reshape_plate_data(plate, transfer_loop_index = i + 1, assembly_type = assembly_type, community_function_name = phenotype_algorithm) # Transfer = 0 means that it's before selection regime works upon\n",
    "    plate_data_list.append(plate_data)\n",
    "\n",
    "    # Community phenotype, richness, and biomass\n",
    "    community_function = globals()[phenotype_algorithm](plate, assumptions = assumptions) # Community phenotype\n",
    "    richness = np.sum(plate.N >= 1/assumptions[\"scale\"], axis = 0) # Richness\n",
    "    biomass = list(np.sum(plate.N, axis = 0)) # Biomass\n",
    "    function_data = reshape_function_data(community_function_name = phenotype_algorithm, community_function = community_function, richness = richness, biomass = biomass, transfer_loop_index = i + 1 , assembly_type = assembly_type)        \n",
    "    community_function_list.append(function_data) # Transfer = 0 means that it's before selection regime works upon\n",
    "\n",
    "    # Output the plate composition and community functions if write_composition set True\n",
    "    if ((i+1) == assumptions[\"n_transfer_selection\"]) or ((i+1) == assumptions[\"n_transfer\"]):\n",
    "            plate_data.to_csv(file_name + \"-\" + phenotype_algorithm + \"-T\" + \"{:02d}\".format(i + 1) + \"-composition.txt\", index = False) # Transfer = 0 means that it's before selection regime works upon\n",
    "    \n",
    "    function_data.to_csv(file_name + \"-\" + phenotype_algorithm + \"-T\" + \"{:02d}\".format(i + 1) + \"-function.txt\", index = False)\n",
    "\n",
    "    # Save the plate object\n",
    "    if (i+1) == assumptions[\"n_transfer_selection\"]:\n",
    "        with open(data_directory + \"test.p\", \"wb\") as f:\n",
    "            pickle.dump({\"plate_N\":plate.N, \"plate_R\":plate.R}, f)\n",
    "\n",
    "    # Passage and tranfer matrix\n",
    "    transfer_matrix = globals()[selection_algorithm](community_function)\n",
    "    plate.Passage(transfer_matrix * params_simulation[\"dilution\"])\n",
    "\n",
    "    # Migration\n",
    "    m = globals()[migration_algorithm](community_function) \n",
    "    plate.N = migrate_from_pool(plate, migration_factor = m, scale = assumptions[\"scale\"], inocula = params_simulation[\"n_migration\"]) # By default, n_migration is the same as n_inoc\n",
    "\n",
    "print(\"\\nAlgorithm \"+ params_algorithm[\"algorithm_name\"][0] + \" finished\")\n"
   ]
  },
  {
   "cell_type": "code",
   "execution_count": null,
   "metadata": {},
   "outputs": [],
   "source": []
  },
  {
   "cell_type": "code",
   "execution_count": 3,
   "metadata": {},
   "outputs": [
    {
     "name": "stdout",
     "output_type": "stream",
     "text": [
      "\n",
      "Algorithm: simple_screening\n",
      "\n",
      "\n",
      " transfer community_phenotype selection_algorithm migration_algorithm\n",
      "        1         f1_additive        no_selection        no_migration\n",
      "        2         f1_additive        no_selection        no_migration\n",
      "\n",
      "Generating initial plate\n",
      "\n",
      "Adding attributes that are essential to the community function to the plate object\n",
      "\n",
      "Start propogation\n",
      "Transfer 1\n",
      "\n",
      "Algorithm simple_screening finished\n"
     ]
    }
   ],
   "source": [
    "data_directory = \"data/test/\"\n",
    "list_algorithms = [\"simple_screening\"]\n",
    "\n",
    "# Parameters for simulation\n",
    "params_simulation.update({\"selected_function\": \"f1_additive\"}) # selected function\n",
    "\n",
    "# Make the list of algorithms\n",
    "algorithms = make_algorithms(params_simulation)\n",
    "\n",
    "# Simulation\n",
    "for i in range(len(list_algorithms)):\n",
    "    simulate_community(\n",
    "        assumptions = assumptions,\n",
    "        params = params,\n",
    "        dynamics = dynamics,\n",
    "        params_simulation = params_simulation,\n",
    "        params_algorithm = algorithms[algorithms[\"algorithm_name\"] == list_algorithms[i]],\n",
    "        write_composition = True,\n",
    "        write_function = True,\n",
    "        file_name = data_directory + \"SP\" + str(seed_temp) + \"-\" + list_algorithms[i],\n",
    "        assembly_type = str(list_algorithms[i]),\n",
    "    )"
   ]
  },
  {
   "cell_type": "code",
   "execution_count": 2,
   "metadata": {},
   "outputs": [
    {
     "name": "stdout",
     "output_type": "stream",
     "text": [
      "{'x': [1, 2, 3, 4], 'y': {'a': 1, 'b': 2}}\n"
     ]
    }
   ],
   "source": [
    "x = [1,2,3,4]\n",
    "y = {\"a\":1, \"b\":2}\n",
    "z = {\"x\":x, \"y\":y}\n",
    "z\n",
    "     \n",
    "with open(\"data/test/test.p\", \"wb\") as f:\n",
    "    pickle.dump(z, f)\n",
    "with open(\"data/test/test.p\", \"rb\") as f:\n",
    "    print(pickle.load(f))\n"
   ]
  },
  {
   "cell_type": "code",
   "execution_count": 10,
   "metadata": {},
   "outputs": [
    {
     "name": "stdout",
     "output_type": "stream",
     "text": [
      "0\n",
      "1\n",
      "2\n",
      "3\n",
      "4\n",
      "0\n",
      "1\n",
      "2\n",
      "3\n",
      "4\n"
     ]
    },
    {
     "data": {
      "text/plain": [
       "[None, None, None, None, None]"
      ]
     },
     "execution_count": 10,
     "metadata": {},
     "output_type": "execute_result"
    }
   ],
   "source": [
    "[print(i) for i in range(5)]\n",
    "[print(i) for i in range(0, 5)]"
   ]
  }
 ],
 "metadata": {
  "kernelspec": {
   "display_name": "Python 3",
   "language": "python",
   "name": "python3"
  },
  "language_info": {
   "codemirror_mode": {
    "name": "ipython",
    "version": 3
   },
   "file_extension": ".py",
   "mimetype": "text/x-python",
   "name": "python",
   "nbconvert_exporter": "python",
   "pygments_lexer": "ipython3",
   "version": "3.7.3"
  }
 },
 "nbformat": 4,
 "nbformat_minor": 2
}
