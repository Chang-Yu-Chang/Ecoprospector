{
 "cells": [
  {
   "cell_type": "markdown",
   "metadata": {},
   "source": [
    "# Test code"
   ]
  },
  {
   "cell_type": "code",
   "execution_count": 1,
   "metadata": {
    "scrolled": true
   },
   "outputs": [],
   "source": [
    "# Community simulator package\n",
    "from IPython.display import Image\n",
    "from community_simulator import *\n",
    "from community_simulator.usertools import *\n",
    "from community_simulator.visualization import *\n",
    "import seaborn as sns\n",
    "import matplotlib.pyplot as plt\n",
    "from matplotlib.backends import backend_pdf as bpdf\n",
    "import numpy as np\n",
    "import scipy as sp\n",
    "import pickle\n",
    "colors = sns.color_palette()\n",
    "%matplotlib inline\n",
    "\n",
    "# Community selection package\n",
    "from community_selection import *\n",
    "from community_selection.A_experiment_functions import *\n",
    "from community_selection.B_community_phenotypes import *\n",
    "from community_selection.C_selection_algorithms import *\n",
    "from community_selection.D_migration_algorithms import *\n",
    "from community_selection.usertools import *"
   ]
  },
  {
   "cell_type": "code",
   "execution_count": 3,
   "metadata": {},
   "outputs": [],
   "source": [
    "# Make dynanmics by default we will use the microbial consumer resource model\n",
    "def dNdt(N,R,params):\n",
    "    return MakeConsumerDynamics(assumptions)(N,R,params)\n",
    "def dRdt(N,R,params):\n",
    "    return MakeResourceDynamics(assumptions)(N,R,params)\n",
    "dynamics = [dNdt,dRdt]\n",
    "\n",
    "# Global parameters\n",
    "## Default parameters from community-simulator\n",
    "## !!!Don't touch this dictionary!!!\n",
    "assumptions = a_default.copy() # Start with default parameters\n",
    "\n",
    "## Update parameters for community-selection\n",
    "assumptions.update({\n",
    "    'SA': 2100 * np.ones(1), #Number of species in each specialist family (here, 3 families of 60 species)\n",
    "    'MA': 90 * np.ones(1), #Number of resources in each class\n",
    "    'Sgen': 0, #Number of generalist species (unbiased sampling over alll resource classes)\n",
    "    \"n_wells\": 12,\n",
    "    \"m\": 0, # Mortality\n",
    "    \"scale\": 10**6,  #scale is a conversion factor specifying the number of individual microbial cells present when N = 1.\n",
    "    \"sigma\" : 1, # Standard deviation for drawing specifc speices/interaction function\n",
    "    \"alpha\": 1, # Scaling factor between species- and interaction-specific function variances\n",
    "    \"l\": 0, # Set leakage function to 0 to switch off cross-feeding\n",
    "    \"response\": \"type III\",\n",
    "    \"sigma_max\": 5,\n",
    "    'R0_food': 1000, # Total amount of supplied food\n",
    "    \"rich_medium\": True, # Number of food types passed to R0\n",
    "    \"binary_threshold\": 1,  \n",
    "    # The parameters below will be passed to params_simulation\n",
    "    \"n_propagation\": 1, # Length of propagation, or hours within a growth cycle\n",
    "    \"n_transfer\": 4, # Number of total transfer, or number of passage\n",
    "    \"n_transfer_selection\": 2, # Number of transfer implementing seleciton regimes\n",
    "    \"dilution\": 1/1000, # Dilution factor at every transfer\n",
    "    \"n_inoc\": 10**6,  #Number of cells sampled from the regional species at start\n",
    "    \"n_migration\": 10**6, # Number of cells to be migrated in the migration perturbation algorithm\n",
    "    \"R_percent\": 0.5, # Fracion of new resources to be spiked in to the media in the resource perturbation algorithm\n",
    "    \"selected_function\": \"f1_additive\"\n",
    "})\n",
    "\n",
    "# Prepare experiment setup in this universe\n",
    "seed_temp = 1\n",
    "params, params_simulation = prepare_experiment(assumptions, seed = seed_temp)"
   ]
  },
  {
   "cell_type": "code",
   "execution_count": 4,
   "metadata": {},
   "outputs": [
    {
     "name": "stdout",
     "output_type": "stream",
     "text": [
      "\n",
      "Algorithm: bottleneck_1\n",
      "\n",
      "\n",
      " transfer community_phenotype selection_algorithm migration_algorithm\n",
      "        1         f1_additive        no_selection        no_migration\n",
      "        2         f1_additive          select_top        no_migration\n",
      "        3         f1_additive        no_selection        no_migration\n",
      "        4         f1_additive        no_selection        no_migration\n",
      "\n",
      "Generating initial plate\n",
      "\n",
      "Adding attributes that are essential to the community function to the plate object\n",
      "\n",
      "Start propogation\n",
      "Transfer 1\n",
      "\n",
      "Algorithm bottleneck_1 finished\n"
     ]
    }
   ],
   "source": [
    "data_directory = \"data/test/\"\n",
    "#list_algorithms = [\"Blouin2015_control\", \"Swenson2000a_control\", \"Swenson2000b_control\", \"Wright2019_control\"]\n",
    "#list_algorithms = [\"select_top25_bottleneck_10\", \"select_top25_bottleneck_100\", \"select_top25_bottleneck_1000\", \"select_top25_bottleneck_10000\", \"pool_top25_bottleneck_10\", \"pool_top25_bottleneck_100\", \"pool_top25_bottleneck_1000\", \"pool_top25_bottleneck_10000\"]\n",
    "#list_algorithms = [\"ctrl\", \"resource_old\", \"resource\", \"resource_add\", \"resource_remove\", \"resource_rescale_add\", \"resource_rescale_remove\", \"knock_in_isolates\", \"knock_out\"]\n",
    "#list_algorithms = [\"ctrl\", \"resource_old\", \"resource_add\", \"resource_remove\", \"resource_rescale_add\", \"resource_rescale_remove\", \"knock_in_isolates\", \"knock_out\"]\n",
    "#list_algorithms = [\"resource_add\", \"resource_old\"]\n",
    "#list_algorithms = [\"select_top25_bottleneck_100000\", \"select_top25_bottleneck_1000000\", \"pool_top25_bottleneck_100000\", \"pool_top25_bottleneck_1000000\"]\n",
    "#list_algorithms = [\"resource_add\", \"bottleneck_1000\", \"bottleneck_10000\", \"bottleneck_100000\"]\n",
    "#list_algorithms = [\"ctrl\", \"resource_old\", \"resource_add\", \"resource_remove\", \"resource_rescale_add\", \"resource_rescale_remove\", \"bottleneck_1000\", \"bottleneck_10000\", \"bottleneck_100000\"]\n",
    "#list_algorithms = [\"select_top25_bottleneck_10\", \"select_top25_bottleneck_100\", \"select_top25_bottleneck_1000\", \"select_top25_bottleneck_10000\", \"select_top25_bottleneck_100000\", \"select_top25_bottleneck_1000000\", \"pool_top25_bottleneck_10\", \"pool_top25_bottleneck_100\", \"pool_top25_bottleneck_1000\", \"pool_top25_bottleneck_10000\", \"pool_top25_bottleneck_100000\", \"pool_top25_bottleneck_1000000\"]\n",
    "#list_algorithms = [\"Chang2020a\", \"Chang2020a_control\", \"Chang2020b\", \"Chang2020b_control\"]\n",
    "#list_algorithms = [\"bottleneck_1\", \"bottleneck_10\", \"bottleneck_100\", \"resource_add_10\", \"resource_add_2\", \"resource_add_1\"]\n",
    "list_algorithms = [\"bottleneck_1\"]\n",
    "\n",
    "# Parameters for simulation\n",
    "params_simulation.update({\"selected_function\": \"f1_additive\"}) # selected function\n",
    "\n",
    "# Make the list of algorithms\n",
    "algorithms = make_algorithms(params_simulation)\n",
    "\n",
    "# Simulation\n",
    "for i in range(len(list_algorithms)):\n",
    "    simulate_community(\n",
    "        assumptions = assumptions,\n",
    "        params = params,\n",
    "        dynamics = dynamics,\n",
    "        params_simulation = params_simulation,\n",
    "        params_algorithm = algorithms[algorithms[\"algorithm_name\"] == list_algorithms[i]],\n",
    "        write_composition = True,\n",
    "        write_function = True,\n",
    "        file_name = data_directory + \"SP\" + str(seed_temp) + \"-\" + list_algorithms[i],\n",
    "        assembly_type = str(list_algorithms[i]),\n",
    "    )"
   ]
  },
  {
   "cell_type": "code",
   "execution_count": 19,
   "metadata": {},
   "outputs": [
    {
     "data": {
      "text/plain": [
       "399"
      ]
     },
     "execution_count": 19,
     "metadata": {},
     "output_type": "execute_result"
    }
   ],
   "source": [
    "import pickle\n",
    "plate_screen = pickle.load(open(data_directory + \"plate_screen.p\", \"rb\"))\n",
    "np.random.choice(np.where(plate_screen[\"plate_N\"][\"W0\"] == 0)[0])"
   ]
  },
  {
   "cell_type": "code",
   "execution_count": null,
   "metadata": {},
   "outputs": [],
   "source": [
    "a = [[1,2],[2,],4]\n"
   ]
  }
 ],
 "metadata": {
  "kernelspec": {
   "display_name": "Python 3",
   "language": "python",
   "name": "python3"
  },
  "language_info": {
   "codemirror_mode": {
    "name": "ipython",
    "version": 3
   },
   "file_extension": ".py",
   "mimetype": "text/x-python",
   "name": "python",
   "nbconvert_exporter": "python",
   "pygments_lexer": "ipython3",
   "version": "3.7.3"
  }
 },
 "nbformat": 4,
 "nbformat_minor": 2
}
