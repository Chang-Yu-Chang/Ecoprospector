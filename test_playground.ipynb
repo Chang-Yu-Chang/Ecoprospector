{
 "cells": [
  {
   "cell_type": "markdown",
   "metadata": {},
   "source": [
    "# Playground for testing code"
   ]
  },
  {
   "cell_type": "code",
   "execution_count": 1,
   "metadata": {},
   "outputs": [],
   "source": [
    "# Community simulator package\n",
    "from IPython.display import Image\n",
    "from community_simulator import *\n",
    "from community_simulator.usertools import *\n",
    "from community_simulator.visualization import *\n",
    "import seaborn as sns\n",
    "import matplotlib.pyplot as plt\n",
    "from matplotlib.backends import backend_pdf as bpdf\n",
    "import numpy as np\n",
    "import scipy as sp\n",
    "colors = sns.color_palette()\n",
    "%matplotlib inline\n",
    "\n",
    "# Community selection package\n",
    "from community_selection import *\n",
    "from community_selection.A_experiment_functions import *\n",
    "from community_selection.B_community_phenotypes import *\n",
    "from community_selection.C_selection_algorithms import *\n",
    "from community_selection.D_migration_algorithms import *"
   ]
  },
  {
   "cell_type": "code",
   "execution_count": 2,
   "metadata": {},
   "outputs": [],
   "source": [
    "# Make dynanmics by default we will use the microbial consumer resource model\n",
    "def dNdt(N,R,params):\n",
    "    return MakeConsumerDynamics(assumptions)(N,R,params)\n",
    "def dRdt(N,R,params):\n",
    "    return MakeResourceDynamics(assumptions)(N,R,params)\n",
    "dynamics = [dNdt,dRdt]\n",
    "\n",
    "# Global parameters\n",
    "## Default parameters from community-simulator\n",
    "assumptions = a_default.copy() # Start with default parameters\n",
    "\n",
    "## Update parameters for community-selection\n",
    "assumptions.update({\n",
    "    'SA': 600*np.ones(3), #Number of species in each specialist family (here, 3 families of 60 species)\n",
    "    'MA': 30*np.ones(3), #Number of resources in each class\n",
    "    'Sgen': 300, #Number of generalist species (unbiased sampling over alll resource classes)\n",
    "    \"n_wells\": 96,\n",
    "    \"m\": 0, # Mortality\n",
    "    \"scale\": 10**6,  #scale is a conversion factor specifying the number of individual microbial cells present when N = 1.\n",
    "    \"sigma\" : 1, # Standard deviation for drawing specifc speices/interaction function\n",
    "    \"alpha\": 1, # Scaling factor between species- and interaction-specific function variances\n",
    "    \"l\": 0, # Set leakage function to 0 to switch off cross-feeding\n",
    "    \"response\": \"type III\",\n",
    "    \"sigma_max\": 5,\n",
    "    'R0_food': 1000, # Total amount of supplied food\n",
    "    \"rich_medium\": True, # Number of food types passed to R0\n",
    "    # The parameters below will be passed to params_simulation\n",
    "    \"n_propagation\": 1, # Length of propagation, or hours within a growth cycle\n",
    "    \"n_transfer\": 2, # Number of total transfer, or number of passage\n",
    "    \"n_transfer_selection\": 1, # Number of transfer implementing seleciton regimes\n",
    "    \"dilution\": 1/1000, # Dilution factor at every transfer\n",
    "    \"n_inoc\": 10**6,  #Number of cells sampled from the regional species at start\n",
    "    \"selected_function\": \"f1_additive\"\n",
    "})\n",
    "# Prepare experiment setup in this universe\n",
    "params, params_simulation = prepare_experiment(assumptions, seed = 1)"
   ]
  },
  {
   "cell_type": "markdown",
   "metadata": {},
   "source": [
    "# Time the execution line-by-line "
   ]
  },
  {
   "cell_type": "code",
   "execution_count": 5,
   "metadata": {},
   "outputs": [
    {
     "name": "stdout",
     "output_type": "stream",
     "text": [
      "1\n",
      "2\n",
      "3\n",
      "4\n"
     ]
    },
    {
     "data": {
      "text/plain": [
       "[None, None, None, None]"
      ]
     },
     "execution_count": 5,
     "metadata": {},
     "output_type": "execute_result"
    }
   ],
   "source": [
    "[print(i) for i in range(1, 5)]"
   ]
  },
  {
   "cell_type": "code",
   "execution_count": 4,
   "metadata": {},
   "outputs": [
    {
     "name": "stdout",
     "output_type": "stream",
     "text": [
      "\n",
      "Algorithm: simple_screening\n",
      "\n",
      "\n",
      " transfer community_phenotype selection_algorithm migration_algorithm\n",
      "        1         f1_additive        no_selection        no_migration\n",
      "        2         f1_additive        no_selection        no_migration\n",
      "\n",
      "Generating initial plate\n",
      "make initial plate\t---28.65023899078369 seconds ---\n",
      "\n",
      "Adding attributes that are essential to the community function to the plate object\n",
      "--- 0.02536296844482422 seconds ---\n"
     ]
    },
    {
     "ename": "NameError",
     "evalue": "name 'migration_algorithm' is not defined",
     "output_type": "error",
     "traceback": [
      "\u001b[0;31m---------------------------------------------------------------------------\u001b[0m",
      "\u001b[0;31mNameError\u001b[0m                                 Traceback (most recent call last)",
      "\u001b[0;32m<ipython-input-4-8d523adb64b3>\u001b[0m in \u001b[0;36m<module>\u001b[0;34m\u001b[0m\n\u001b[1;32m     59\u001b[0m \u001b[0;34m\u001b[0m\u001b[0m\n\u001b[1;32m     60\u001b[0m \u001b[0;34m\u001b[0m\u001b[0m\n\u001b[0;32m---> 61\u001b[0;31m \u001b[0mm\u001b[0m \u001b[0;34m=\u001b[0m \u001b[0mglobals\u001b[0m\u001b[0;34m(\u001b[0m\u001b[0;34m)\u001b[0m\u001b[0;34m[\u001b[0m\u001b[0mmigration_algorithm\u001b[0m\u001b[0;34m]\u001b[0m\u001b[0;34m(\u001b[0m\u001b[0mcommunity_function\u001b[0m\u001b[0;34m)\u001b[0m\u001b[0;34m\u001b[0m\u001b[0;34m\u001b[0m\u001b[0m\n\u001b[0m\u001b[1;32m     62\u001b[0m \u001b[0mplate\u001b[0m\u001b[0;34m.\u001b[0m\u001b[0mN\u001b[0m \u001b[0;34m=\u001b[0m \u001b[0mmigrate_from_pool\u001b[0m\u001b[0;34m(\u001b[0m\u001b[0mplate\u001b[0m\u001b[0;34m,\u001b[0m \u001b[0mpool\u001b[0m \u001b[0;34m=\u001b[0m \u001b[0mparams_simulation\u001b[0m\u001b[0;34m[\u001b[0m\u001b[0;34m\"pool\"\u001b[0m\u001b[0;34m]\u001b[0m\u001b[0;34m,\u001b[0m \u001b[0mmigration_factor\u001b[0m \u001b[0;34m=\u001b[0m \u001b[0mm\u001b[0m\u001b[0;34m,\u001b[0m \u001b[0mscale\u001b[0m \u001b[0;34m=\u001b[0m \u001b[0massumptions\u001b[0m\u001b[0;34m[\u001b[0m\u001b[0;34m\"scale\"\u001b[0m\u001b[0;34m]\u001b[0m\u001b[0;34m,\u001b[0m \u001b[0minocula\u001b[0m \u001b[0;34m=\u001b[0m \u001b[0mparams_simulation\u001b[0m\u001b[0;34m[\u001b[0m\u001b[0;34m\"n_inoc\"\u001b[0m\u001b[0;34m]\u001b[0m\u001b[0;34m)\u001b[0m\u001b[0;34m\u001b[0m\u001b[0;34m\u001b[0m\u001b[0m\n\u001b[1;32m     63\u001b[0m \u001b[0;34m\u001b[0m\u001b[0m\n",
      "\u001b[0;31mNameError\u001b[0m: name 'migration_algorithm' is not defined"
     ]
    }
   ],
   "source": []
  },
  {
   "cell_type": "code",
   "execution_count": 3,
   "metadata": {},
   "outputs": [
    {
     "name": "stdout",
     "output_type": "stream",
     "text": [
      "\n",
      "Algorithm: simple_screening\n",
      "\n",
      "\n",
      " transfer community_phenotype selection_algorithm migration_algorithm\n",
      "        1  f6_resident_growth        no_selection        no_migration\n",
      "        2  f6_resident_growth        no_selection        no_migration\n",
      "        3  f6_resident_growth        no_selection        no_migration\n",
      "        4  f6_resident_growth        no_selection        no_migration\n",
      "        5  f6_resident_growth        no_selection        no_migration\n",
      "        6  f6_resident_growth        no_selection        no_migration\n",
      "        7  f6_resident_growth        no_selection        no_migration\n",
      "        8  f6_resident_growth        no_selection        no_migration\n",
      "        9  f6_resident_growth        no_selection        no_migration\n",
      "       10  f6_resident_growth        no_selection        no_migration\n",
      "       11  f6_resident_growth        no_selection        no_migration\n",
      "       12  f6_resident_growth        no_selection        no_migration\n",
      "       13  f6_resident_growth        no_selection        no_migration\n",
      "       14  f6_resident_growth        no_selection        no_migration\n",
      "       15  f6_resident_growth        no_selection        no_migration\n",
      "       16  f6_resident_growth        no_selection        no_migration\n",
      "       17  f6_resident_growth        no_selection        no_migration\n",
      "       18  f6_resident_growth        no_selection        no_migration\n",
      "       19  f6_resident_growth        no_selection        no_migration\n",
      "       20  f6_resident_growth        no_selection        no_migration\n",
      "\n",
      "Generating initial plate\n",
      "\n",
      "Adding attributes that are essential to the community function to the plate object\n",
      "\n",
      "Stabilizing the invader community for function f5_invader_growth. Passage for 10 transfers.The invader plate has  96  wells.\n",
      "Passaging invader community. Transfer 1\n",
      "Passaging invader community. Transfer 6\n",
      "Finished passaging the invader community. The invader community has 1 species.\n",
      "\n",
      "Start propogation\n",
      "Transfer 1\n",
      "Transfer 6\n",
      "Transfer 11\n",
      "Transfer 16\n",
      "\n",
      "Algorithm simple_screening finished\n"
     ]
    }
   ],
   "source": [
    "data_directory = \"data/test/\"\n",
    "\n",
    "#list_phenotypes = [\"f6_resident_growth\"]\n",
    "list_phenotypes = [\"f5_invader_growth\", \"f6_resident_growth\"]\n",
    "#list_phenotypes = [\"f3_additive_binary\", \"f4_interaction_binary\", \"f5_invader_growth\"]\n",
    "#list_phenotypes = [\"f1_additive\", \"f2_interaction\", \"f3_additive_binary\", \"f4_interaction_binary\", \"f5_invader_growth\", \"f6_resident_growth\"]\n",
    "list_algorithms = [\"simple_screening\"]\n",
    "#list_algorithms = [\"simple_screening\", \"swenson2000\", \"direct_selection\", \"panke_buisse2015\", \"pair_top_communities\", \"multiple_pair_top\"]\n",
    "\n",
    "\n",
    "for j in range(len(list_phenotypes)):\n",
    "    # Parameters for simulation\n",
    "    params_simulation.update({\"selected_function\": list_phenotypes[j]}) # selected function\n",
    "\n",
    "    # Make the list of algorithms\n",
    "    algorithms = make_algorithms(params_simulation)\n",
    "    \n",
    "    # Simulation\n",
    "    for i in range(len(list_algorithms)):\n",
    "        simulate_community(\n",
    "            assumptions = assumptions,\n",
    "            params = params,\n",
    "            dynamics = dynamics,\n",
    "            params_simulation = params_simulation, \n",
    "            params_algorithm = algorithms[algorithms[\"algorithm_name\"] == list_algorithms[i]], \n",
    "            write_composition = True,\n",
    "            file_name = data_directory + list_algorithms[i],\n",
    "            assembly_type = str(list_algorithms[i]),\n",
    "        )\n",
    "        "
   ]
  }
 ],
 "metadata": {
  "kernelspec": {
   "display_name": "Python 3",
   "language": "python",
   "name": "python3"
  }
 },
 "nbformat": 4,
 "nbformat_minor": 2
}
